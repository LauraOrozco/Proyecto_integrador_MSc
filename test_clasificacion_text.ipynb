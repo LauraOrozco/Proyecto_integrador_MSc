{
 "cells": [
  {
   "cell_type": "code",
   "execution_count": 1,
   "metadata": {},
   "outputs": [
    {
     "name": "stderr",
     "output_type": "stream",
     "text": [
      "[nltk_data] Downloading package stopwords to\n",
      "[nltk_data]     /Users/lorozcoceron/nltk_data...\n",
      "[nltk_data]   Package stopwords is already up-to-date!\n"
     ]
    }
   ],
   "source": [
    "import numpy as np\n",
    "import re\n",
    "import nltk\n",
    "from sklearn.datasets import load_files\n",
    "nltk.download('stopwords')\n",
    "import pickle\n",
    "from nltk.corpus import stopwords\n",
    "import pandas as pd\n",
    "import unidecode"
   ]
  },
  {
   "cell_type": "code",
   "execution_count": 2,
   "metadata": {},
   "outputs": [
    {
     "name": "stderr",
     "output_type": "stream",
     "text": [
      "[nltk_data] Downloading package wordnet to\n",
      "[nltk_data]     /Users/lorozcoceron/nltk_data...\n",
      "[nltk_data]   Package wordnet is already up-to-date!\n"
     ]
    },
    {
     "data": {
      "text/plain": [
       "True"
      ]
     },
     "execution_count": 2,
     "metadata": {},
     "output_type": "execute_result"
    }
   ],
   "source": [
    "nltk.download('wordnet')"
   ]
  },
  {
   "cell_type": "code",
   "execution_count": 3,
   "metadata": {},
   "outputs": [],
   "source": [
    "import os "
   ]
  },
  {
   "cell_type": "code",
   "execution_count": 4,
   "metadata": {},
   "outputs": [],
   "source": [
    "path = \"/Users/lorozcoceron/Proyecto_integrador_MSc/Extraccion de texto/\""
   ]
  },
  {
   "cell_type": "code",
   "execution_count": 5,
   "metadata": {},
   "outputs": [],
   "source": [
    "filenames = os.listdir(path)"
   ]
  },
  {
   "cell_type": "code",
   "execution_count": 6,
   "metadata": {},
   "outputs": [
    {
     "data": {
      "text/plain": [
       "['2020-4330-2019-PAS-TR1-MAI.txt',\n",
       " '2020-12969-50834-FQ-TR1-MAI.txt',\n",
       " '2020-4330-49958-FQ-TR1-MAI.txt',\n",
       " '12914-50286-FQ.txt',\n",
       " '13353-47649-ATR3 FASE N°1 CDBC FQ.txt']"
      ]
     },
     "execution_count": 6,
     "metadata": {},
     "output_type": "execute_result"
    }
   ],
   "source": [
    "filenames[:5]"
   ]
  },
  {
   "cell_type": "code",
   "execution_count": 7,
   "metadata": {},
   "outputs": [],
   "source": [
    "tag = []\n",
    "tag_original = pd.DataFrame(columns = [\"document\", \"tag\"])\n",
    "for i in range(len(filenames)):\n",
    "    tag_original.loc[i] = None\n",
    "    if \"-FQ\" in filenames[i]:\n",
    "        tag.append(\"Aceites\")\n",
    "    elif \"-CR\" in filenames[i]:\n",
    "        tag.append(\"Gases\")\n",
    "    elif \"-FU\" in filenames[i]:\n",
    "        tag.append(\"Furanos\")\n",
    "    else:\n",
    "        tag.append(\"otros\")\n",
    "\n",
    "    tag_original[\"document\"].loc[i] = filenames[i]\n",
    "    tag_original[\"tag\"].loc[i] = tag[i]"
   ]
  },
  {
   "cell_type": "code",
   "execution_count": 8,
   "metadata": {},
   "outputs": [
    {
     "data": {
      "text/plain": [
       "otros      207\n",
       "Aceites    200\n",
       "Gases       98\n",
       "Furanos      2\n",
       "Name: tag, dtype: int64"
      ]
     },
     "execution_count": 8,
     "metadata": {},
     "output_type": "execute_result"
    }
   ],
   "source": [
    "tag_original[\"tag\"].value_counts()"
   ]
  },
  {
   "cell_type": "code",
   "execution_count": 9,
   "metadata": {},
   "outputs": [
    {
     "data": {
      "text/html": [
       "<div>\n",
       "<style scoped>\n",
       "    .dataframe tbody tr th:only-of-type {\n",
       "        vertical-align: middle;\n",
       "    }\n",
       "\n",
       "    .dataframe tbody tr th {\n",
       "        vertical-align: top;\n",
       "    }\n",
       "\n",
       "    .dataframe thead th {\n",
       "        text-align: right;\n",
       "    }\n",
       "</style>\n",
       "<table border=\"1\" class=\"dataframe\">\n",
       "  <thead>\n",
       "    <tr style=\"text-align: right;\">\n",
       "      <th></th>\n",
       "      <th>document</th>\n",
       "      <th>tag</th>\n",
       "    </tr>\n",
       "  </thead>\n",
       "  <tbody>\n",
       "    <tr>\n",
       "      <th>0</th>\n",
       "      <td>2020-4330-2019-PAS-TR1-MAI.txt</td>\n",
       "      <td>otros</td>\n",
       "    </tr>\n",
       "    <tr>\n",
       "      <th>1</th>\n",
       "      <td>2020-12969-50834-FQ-TR1-MAI.txt</td>\n",
       "      <td>Aceites</td>\n",
       "    </tr>\n",
       "    <tr>\n",
       "      <th>2</th>\n",
       "      <td>2020-4330-49958-FQ-TR1-MAI.txt</td>\n",
       "      <td>Aceites</td>\n",
       "    </tr>\n",
       "    <tr>\n",
       "      <th>3</th>\n",
       "      <td>12914-50286-FQ.txt</td>\n",
       "      <td>Aceites</td>\n",
       "    </tr>\n",
       "    <tr>\n",
       "      <th>4</th>\n",
       "      <td>13353-47649-ATR3 FASE N°1 CDBC FQ.txt</td>\n",
       "      <td>otros</td>\n",
       "    </tr>\n",
       "    <tr>\n",
       "      <th>...</th>\n",
       "      <td>...</td>\n",
       "      <td>...</td>\n",
       "    </tr>\n",
       "    <tr>\n",
       "      <th>502</th>\n",
       "      <td>2019-4854-44929-FQ-TR9-PAZ.txt</td>\n",
       "      <td>Aceites</td>\n",
       "    </tr>\n",
       "    <tr>\n",
       "      <th>503</th>\n",
       "      <td>12-2019 - 13531-48311-FQ-BCO-ATR2 FASE N°2 CDB...</td>\n",
       "      <td>Aceites</td>\n",
       "    </tr>\n",
       "    <tr>\n",
       "      <th>504</th>\n",
       "      <td>2019 - 4700048304 PCB.txt</td>\n",
       "      <td>otros</td>\n",
       "    </tr>\n",
       "    <tr>\n",
       "      <th>505</th>\n",
       "      <td>2019-12691-62132-CR-TR10-PAZ.txt</td>\n",
       "      <td>Gases</td>\n",
       "    </tr>\n",
       "    <tr>\n",
       "      <th>506</th>\n",
       "      <td>2020-0003-49664-FQ-TRACEC-F1CAR.txt</td>\n",
       "      <td>Aceites</td>\n",
       "    </tr>\n",
       "  </tbody>\n",
       "</table>\n",
       "<p>507 rows × 2 columns</p>\n",
       "</div>"
      ],
      "text/plain": [
       "                                              document      tag\n",
       "0                       2020-4330-2019-PAS-TR1-MAI.txt    otros\n",
       "1                      2020-12969-50834-FQ-TR1-MAI.txt  Aceites\n",
       "2                       2020-4330-49958-FQ-TR1-MAI.txt  Aceites\n",
       "3                                   12914-50286-FQ.txt  Aceites\n",
       "4                13353-47649-ATR3 FASE N°1 CDBC FQ.txt    otros\n",
       "..                                                 ...      ...\n",
       "502                     2019-4854-44929-FQ-TR9-PAZ.txt  Aceites\n",
       "503  12-2019 - 13531-48311-FQ-BCO-ATR2 FASE N°2 CDB...  Aceites\n",
       "504                          2019 - 4700048304 PCB.txt    otros\n",
       "505                   2019-12691-62132-CR-TR10-PAZ.txt    Gases\n",
       "506                2020-0003-49664-FQ-TRACEC-F1CAR.txt  Aceites\n",
       "\n",
       "[507 rows x 2 columns]"
      ]
     },
     "execution_count": 9,
     "metadata": {},
     "output_type": "execute_result"
    }
   ],
   "source": [
    "tag_original"
   ]
  },
  {
   "cell_type": "code",
   "execution_count": 10,
   "metadata": {},
   "outputs": [],
   "source": [
    "def read_text_file(file_path):\n",
    "    with open(file_path, 'r') as f:\n",
    "        return(f.read())\n",
    "  \n",
    "list_with_text = []\n",
    "  \n",
    "# iterate through all file\n",
    "for filename in filenames:\n",
    "    # Check whether file is in text format or not\n",
    "    if filename.endswith(\".txt\"):\n",
    "        file_path = f\"{path}{filename}\"\n",
    "  \n",
    "        # call read text file function\n",
    "        str_file = read_text_file(file_path)\n",
    "        list_with_text.append(str_file)"
   ]
  },
  {
   "cell_type": "code",
   "execution_count": 11,
   "metadata": {},
   "outputs": [
    {
     "data": {
      "text/plain": [
       "'       JORPA INGENIERÍA S.A.                                           RL-39 V2019 R1\\n            Servicios de Ingeniería\\n        Fonos: (2)29598900 – 29598913\\nDresden N° 4688- 4672 – San Miguel – Santiago\\n                                                      ANÁLISIS DE CONCENTRACIÓN DE\\n                     CHILE                                      ADITIVOS\\n                      1/1\\n\\n\\n\\nEMPRESA:     TRANSELEC S.A.                                                                             FECHA:             26/02/2020\\nOT:          6259                                                                                       EQUIPO / DIAGNÓSTICO\\nID. EQUIPO:  Autotransformador TAG ATR-1 ABB Nº 89391                                                     4330       4330\\nPOT. MÁXIMA: 90                        MVA                                                              FECHA MUESTREO:       19/12/2019\\nVOLTAJE:     220/110/13,2               kV                                                              FECHA RECEPCIÓN:      27/12/2019\\nLUGAR:       S/E Maitencillo                                                                            FECHA ANÁLISIS:       03/02/2020\\nDIAGNÓSTICO ANTERIOR:        No tiene                                                                   AÑO FABRICACIÓN:          2005\\nFECHA:                       No tiene                                                                   PUNTO MUESTREO: Nivel inferior estanque\\n\\n\\n                                                                                                           LIMITE ACEITE           LIMITE ACEITE EN\\n           PRUEBA                     UNIDAD                MÉTODO                  RESULTADO\\n                                                                                                              NUEVO                   SERVICIO\\n\\n   Análisis de contenido de\\n                                          %               ASTM D 2668                      NR                 0,08 a 0,40                 >0,18\\n    inhibidor BHT - DBPC\\n\\n\\nAnálisis de contenido de BTA             ppm         Cigré WG A2.32 TF 02                  <1                   20 a 45                    >10\\n\\n\\n   Análisis de contenido de\\n                                         ppm         Cigré WG A2.32 TF 02                  81                       *                       *\\n          Irgamet 39\\n\\n\\n*La concentración de Irgamet 39 recomendada para transformadores con presencia de dibencil disulfuro es 100 ppm.\\n*El nombre comercial del pasivador metálico puede ser Irgamet 39, o Nypass o BTA.\\n\\n\\n                                                                                                           LIMITE ACEITE           LIMITE ACEITE EN\\n           PRUEBA                     UNIDAD                MÉTODO                  RESULTADO\\n                                                                                                              NUEVO                   SERVICIO\\n\\n   Análisis de contenido de                                                                                  no detectable\\n                                         ppm                  DOBLE                        NR                                           <25 ppm\\n             DBDS                                                                                             (<5 ppm)\\n\\nNotas:\\nND: no detectado\\nNR : no realizado\\n* Limites para aceite nuevo de acuerdo a IEC 60296-2012 \"Fluids for electrotechnical applications - Unused mineral insulating oils\\n for transformers and switchgear\".\\n* Limites para aceite en servicio de acuerdo a IEC 60422-2013 \"Mineral Insulating Oils in Electrical Equipment\".\\n* Dos aceites con la misma concentración de DBDS pueden tener comportamientos distintos, ya que la generación de\\nsulfuro de cobre depende de varios factores: temperatura de operación, cantidad de oxigeno presente y presencia de\\npasivadores.\\n* De acuerdo a estudios realizados por IEEE TC, la contaminación con sulfuro de cobre aumenta con el tiempo.\\n* El límite de concentración de DBDS en aceite en servicio solo aplica para aceite contaminado por manipulación o equipos a los cuales\\nse les ha cambiado el aceite.\\nOBSERVACIONES:\\n- Muestra tomada por Transelec S.A., y analizada en Laboratorio Doble Engineering Company.\\n- Restos de muestra con descarte inmediato.\\n\\nSITUACIÓN ACTUAL:                                                                    ACCIÓN A SEGUIR:\\n- Aceite en condiciones para servicio.                                               - Analizar al cabo de un año. Evitar sobre-voltajes y/o\\n                                                                                       aumento de carga en el equipo.\\n                                                                                     - Adicionar pasivador hasta alcanzar 100 ppm o cambiar\\n                                                                                       el aceite.\\nEste reporte de análisis no puede ser reproducido parcialmente sin la autorización por escrito de Jorpa Ingeniería S.A.\\n\\n\\n\\n\\n       Carola Núñez D.                                                                                                    Cristian Aramburu R.\\n             Aprobó                                                                                                               Revisó\\n\\x0c'"
      ]
     },
     "execution_count": 11,
     "metadata": {},
     "output_type": "execute_result"
    }
   ],
   "source": [
    "list_with_text[0]"
   ]
  },
  {
   "cell_type": "code",
   "execution_count": 12,
   "metadata": {},
   "outputs": [],
   "source": [
    "documents = []\n",
    "\n",
    "from nltk.stem import WordNetLemmatizer\n",
    "\n",
    "stemmer = WordNetLemmatizer()\n",
    "\n",
    "for sen in range(0, len(list_with_text)):\n",
    "    # Remove all the special characters\n",
    "    document = re.sub(r'\\W', ' ', str(list_with_text[sen]))\n",
    "    \n",
    "    # remove all single characters\n",
    "    document = re.sub(r'\\s+[a-zA-Z]\\s+', ' ', document)\n",
    "    \n",
    "    # Remove single characters from the start\n",
    "    document = re.sub(r'\\^[a-zA-Z]\\s+', ' ', document) \n",
    "    \n",
    "    # Substituting multiple spaces with single space\n",
    "    document = re.sub(r'\\s+', ' ', document, flags=re.I)\n",
    "    \n",
    "    # Removing prefixed 'b'\n",
    "    document = re.sub(r'^b\\s+', '', document)\n",
    "    \n",
    "    # Converting to Lowercase\n",
    "    document = document.lower()\n",
    "    \n",
    "    # Lemmatization\n",
    "    document = document.split()\n",
    "\n",
    "    document = [stemmer.lemmatize(word) for word in document]\n",
    "    document = ' '.join(document)\n",
    "    \n",
    "    document = unidecode.unidecode(document)\n",
    "    \n",
    "    documents.append(document)"
   ]
  },
  {
   "cell_type": "code",
   "execution_count": 13,
   "metadata": {},
   "outputs": [
    {
     "data": {
      "text/plain": [
       "'jorpa ingenieria a rl 39 v2019 r1 servicios de ingenieria fonos 2 29598900 29598913 dresden 4688 4672 san miguel santiago analisis de concentracion de chile aditivos 1 1 empresa transelec a fecha 26 02 2020 ot 6259 equipo diagnostico id equipo autotransformador tag atr 1 abb no 89391 4330 4330 pot maxima 90 mva fecha muestreo 19 12 2019 voltaje 220 110 13 2 kv fecha recepcion 27 12 2019 lugar e maitencillo fecha analisis 03 02 2020 diagnostico anterior no tiene ano fabricacion 2005 fecha no tiene punto muestreo nivel inferior estanque limite aceite limite aceite en prueba unidad metodo resultado nuevo servicio analisis de contenido de astm 2668 nr 0 08 0 40 0 18 inhibidor bht dbpc analisis de contenido de bta ppm cigre wg a2 32 tf 02 1 20 45 10 analisis de contenido de ppm cigre wg a2 32 tf 02 81 irgamet 39 la concentracion de irgamet 39 recomendada para transformadores con presencia de dibencil disulfuro e 100 ppm el nombre comercial del pasivador metalico puede ser irgamet 39 nypa bta limite aceite limite aceite en prueba unidad metodo resultado nuevo servicio analisis de contenido de no detectable ppm doble nr 25 ppm dbds 5 ppm notas nd no detectado nr no realizado limites para aceite nuevo de acuerdo iec 60296 2012 fluid for electrotechnical application unused mineral insulating oil for transformer and switchgear limites para aceite en servicio de acuerdo iec 60422 2013 mineral insulating oil in electrical equipment do aceites con la misma concentracion de dbds pueden tener comportamientos distintos ya que la generacion de sulfuro de cobre depende de varios factores temperatura de operacion cantidad de oxigeno presente presencia de pasivadores de acuerdo estudios realizados por ieee tc la contaminacion con sulfuro de cobre aumenta con el tiempo el limite de concentracion de dbds en aceite en servicio solo aplica para aceite contaminado por manipulacion equipos los cuales se le ha cambiado el aceite observaciones muestra tomada por transelec a analizada en laboratorio doble engineering company restos de muestra con descarte inmediato situacion actual accion seguir aceite en condiciones para servicio analizar al cabo de un ano evitar sobre voltajes o aumento de carga en el equipo adicionar pasivador hasta alcanzar 100 ppm cambiar el aceite este reporte de analisis no puede ser reproducido parcialmente sin la autorizacion por escrito de jorpa ingenieria a carola nunez cristian aramburu aprobo reviso'"
      ]
     },
     "execution_count": 13,
     "metadata": {},
     "output_type": "execute_result"
    }
   ],
   "source": [
    "documents[0]"
   ]
  },
  {
   "cell_type": "code",
   "execution_count": 14,
   "metadata": {},
   "outputs": [],
   "source": [
    "from sklearn.feature_extraction.text import CountVectorizer\n",
    "vectorizer = CountVectorizer(max_features=1500, min_df=5, max_df=0.7, stop_words=stopwords.words('english'))\n",
    "X = vectorizer.fit_transform(documents).toarray()"
   ]
  },
  {
   "cell_type": "code",
   "execution_count": 15,
   "metadata": {},
   "outputs": [
    {
     "data": {
      "text/plain": [
       "array([[0, 0, 0, ..., 0, 2, 1],\n",
       "       [0, 0, 0, ..., 0, 0, 0],\n",
       "       [1, 0, 0, ..., 1, 0, 0],\n",
       "       ...,\n",
       "       [0, 0, 0, ..., 0, 0, 0],\n",
       "       [0, 1, 0, ..., 0, 0, 0],\n",
       "       [1, 0, 0, ..., 1, 0, 0]])"
      ]
     },
     "execution_count": 15,
     "metadata": {},
     "output_type": "execute_result"
    }
   ],
   "source": [
    "X"
   ]
  },
  {
   "cell_type": "code",
   "execution_count": 16,
   "metadata": {},
   "outputs": [],
   "source": [
    "from sklearn.feature_extraction.text import TfidfTransformer\n",
    "tfidfconverter = TfidfTransformer()\n",
    "X = tfidfconverter.fit_transform(X).toarray()"
   ]
  },
  {
   "cell_type": "code",
   "execution_count": 17,
   "metadata": {},
   "outputs": [
    {
     "data": {
      "text/plain": [
       "array([[0.        , 0.        , 0.        , ..., 0.        , 0.12335813,\n",
       "        0.06167907],\n",
       "       [0.        , 0.        , 0.        , ..., 0.        , 0.        ,\n",
       "        0.        ],\n",
       "       [0.03399581, 0.        , 0.        , ..., 0.03222767, 0.        ,\n",
       "        0.        ],\n",
       "       ...,\n",
       "       [0.        , 0.        , 0.        , ..., 0.        , 0.        ,\n",
       "        0.        ],\n",
       "       [0.        , 0.0291684 , 0.        , ..., 0.        , 0.        ,\n",
       "        0.        ],\n",
       "       [0.03256898, 0.        , 0.        , ..., 0.03087505, 0.        ,\n",
       "        0.        ]])"
      ]
     },
     "execution_count": 17,
     "metadata": {},
     "output_type": "execute_result"
    }
   ],
   "source": [
    "X"
   ]
  },
  {
   "cell_type": "code",
   "execution_count": 18,
   "metadata": {},
   "outputs": [],
   "source": [
    "# Creando Target\n",
    "key_words_aceites = [\"temperatura aceite\", \"humedad\", \"rigidez dielectrica\", \"tension interfacial\", \"numero neutralizacion\", \"color\"]"
   ]
  },
  {
   "cell_type": "code",
   "execution_count": 19,
   "metadata": {},
   "outputs": [],
   "source": [
    "# Creando Target\n",
    "key_words_gases = [\"nitrogeno\", \"oxigeno\", \"dioxido de carbono\", \"metano\", \"etileno\", \"acetileno\"]"
   ]
  },
  {
   "cell_type": "code",
   "execution_count": 20,
   "metadata": {},
   "outputs": [],
   "source": [
    "key_words_furanos = [\"hidroximetil\", \"furfuril\", \"metil\", \"polimerización\", \"furfural\", \"acetilfurfural\"]"
   ]
  },
  {
   "cell_type": "code",
   "execution_count": 21,
   "metadata": {},
   "outputs": [],
   "source": [
    "key_words = key_words_aceites + key_words_furanos + key_words_gases"
   ]
  },
  {
   "cell_type": "code",
   "execution_count": 22,
   "metadata": {},
   "outputs": [],
   "source": [
    "doc_labels = pd.DataFrame(columns=key_words)"
   ]
  },
  {
   "cell_type": "code",
   "execution_count": 23,
   "metadata": {},
   "outputs": [],
   "source": [
    "doc_labels[\"Nombre documento\"] = None\n",
    "doc_labels[\"Target\"] = None\n"
   ]
  },
  {
   "cell_type": "code",
   "execution_count": 24,
   "metadata": {},
   "outputs": [
    {
     "data": {
      "text/html": [
       "<div>\n",
       "<style scoped>\n",
       "    .dataframe tbody tr th:only-of-type {\n",
       "        vertical-align: middle;\n",
       "    }\n",
       "\n",
       "    .dataframe tbody tr th {\n",
       "        vertical-align: top;\n",
       "    }\n",
       "\n",
       "    .dataframe thead th {\n",
       "        text-align: right;\n",
       "    }\n",
       "</style>\n",
       "<table border=\"1\" class=\"dataframe\">\n",
       "  <thead>\n",
       "    <tr style=\"text-align: right;\">\n",
       "      <th></th>\n",
       "      <th>temperatura aceite</th>\n",
       "      <th>humedad</th>\n",
       "      <th>rigidez dielectrica</th>\n",
       "      <th>tension interfacial</th>\n",
       "      <th>numero neutralizacion</th>\n",
       "      <th>color</th>\n",
       "      <th>hidroximetil</th>\n",
       "      <th>furfuril</th>\n",
       "      <th>metil</th>\n",
       "      <th>polimerización</th>\n",
       "      <th>furfural</th>\n",
       "      <th>acetilfurfural</th>\n",
       "      <th>nitrogeno</th>\n",
       "      <th>oxigeno</th>\n",
       "      <th>dioxido de carbono</th>\n",
       "      <th>metano</th>\n",
       "      <th>etileno</th>\n",
       "      <th>acetileno</th>\n",
       "      <th>Nombre documento</th>\n",
       "      <th>Target</th>\n",
       "    </tr>\n",
       "  </thead>\n",
       "  <tbody>\n",
       "  </tbody>\n",
       "</table>\n",
       "</div>"
      ],
      "text/plain": [
       "Empty DataFrame\n",
       "Columns: [temperatura aceite, humedad, rigidez dielectrica, tension interfacial, numero neutralizacion, color, hidroximetil, furfuril, metil, polimerización, furfural, acetilfurfural, nitrogeno, oxigeno, dioxido de carbono, metano, etileno, acetileno, Nombre documento, Target]\n",
       "Index: []"
      ]
     },
     "execution_count": 24,
     "metadata": {},
     "output_type": "execute_result"
    }
   ],
   "source": [
    "doc_labels"
   ]
  },
  {
   "cell_type": "code",
   "execution_count": null,
   "metadata": {},
   "outputs": [],
   "source": []
  },
  {
   "cell_type": "code",
   "execution_count": 25,
   "metadata": {},
   "outputs": [],
   "source": [
    "for index_document in range(len(documents)):\n",
    "    doc_labels.loc[index_document] = None\n",
    "    doc = documents[index_document]\n",
    "    doc_labels.loc[index_document][\"Nombre documento\"] = filenames[index_document]\n",
    "    for key_word in key_words:\n",
    "        doc_labels.loc[index_document][key_word] = 1 if key_word in doc else 0\n"
   ]
  },
  {
   "cell_type": "code",
   "execution_count": 26,
   "metadata": {},
   "outputs": [
    {
     "data": {
      "text/html": [
       "<div>\n",
       "<style scoped>\n",
       "    .dataframe tbody tr th:only-of-type {\n",
       "        vertical-align: middle;\n",
       "    }\n",
       "\n",
       "    .dataframe tbody tr th {\n",
       "        vertical-align: top;\n",
       "    }\n",
       "\n",
       "    .dataframe thead th {\n",
       "        text-align: right;\n",
       "    }\n",
       "</style>\n",
       "<table border=\"1\" class=\"dataframe\">\n",
       "  <thead>\n",
       "    <tr style=\"text-align: right;\">\n",
       "      <th></th>\n",
       "      <th>temperatura aceite</th>\n",
       "      <th>humedad</th>\n",
       "      <th>rigidez dielectrica</th>\n",
       "      <th>tension interfacial</th>\n",
       "      <th>numero neutralizacion</th>\n",
       "      <th>color</th>\n",
       "      <th>hidroximetil</th>\n",
       "      <th>furfuril</th>\n",
       "      <th>metil</th>\n",
       "      <th>polimerización</th>\n",
       "      <th>furfural</th>\n",
       "      <th>acetilfurfural</th>\n",
       "      <th>nitrogeno</th>\n",
       "      <th>oxigeno</th>\n",
       "      <th>dioxido de carbono</th>\n",
       "      <th>metano</th>\n",
       "      <th>etileno</th>\n",
       "      <th>acetileno</th>\n",
       "      <th>Nombre documento</th>\n",
       "      <th>Target</th>\n",
       "    </tr>\n",
       "  </thead>\n",
       "  <tbody>\n",
       "    <tr>\n",
       "      <th>0</th>\n",
       "      <td>0</td>\n",
       "      <td>0</td>\n",
       "      <td>0</td>\n",
       "      <td>0</td>\n",
       "      <td>0</td>\n",
       "      <td>0</td>\n",
       "      <td>0</td>\n",
       "      <td>0</td>\n",
       "      <td>0</td>\n",
       "      <td>0</td>\n",
       "      <td>0</td>\n",
       "      <td>0</td>\n",
       "      <td>0</td>\n",
       "      <td>1</td>\n",
       "      <td>0</td>\n",
       "      <td>0</td>\n",
       "      <td>0</td>\n",
       "      <td>0</td>\n",
       "      <td>2020-4330-2019-PAS-TR1-MAI.txt</td>\n",
       "      <td>NaN</td>\n",
       "    </tr>\n",
       "    <tr>\n",
       "      <th>1</th>\n",
       "      <td>1</td>\n",
       "      <td>1</td>\n",
       "      <td>1</td>\n",
       "      <td>0</td>\n",
       "      <td>0</td>\n",
       "      <td>0</td>\n",
       "      <td>0</td>\n",
       "      <td>0</td>\n",
       "      <td>0</td>\n",
       "      <td>0</td>\n",
       "      <td>0</td>\n",
       "      <td>0</td>\n",
       "      <td>0</td>\n",
       "      <td>0</td>\n",
       "      <td>0</td>\n",
       "      <td>0</td>\n",
       "      <td>0</td>\n",
       "      <td>0</td>\n",
       "      <td>2020-12969-50834-FQ-TR1-MAI.txt</td>\n",
       "      <td>NaN</td>\n",
       "    </tr>\n",
       "    <tr>\n",
       "      <th>2</th>\n",
       "      <td>1</td>\n",
       "      <td>1</td>\n",
       "      <td>1</td>\n",
       "      <td>1</td>\n",
       "      <td>1</td>\n",
       "      <td>1</td>\n",
       "      <td>0</td>\n",
       "      <td>0</td>\n",
       "      <td>0</td>\n",
       "      <td>0</td>\n",
       "      <td>0</td>\n",
       "      <td>0</td>\n",
       "      <td>0</td>\n",
       "      <td>0</td>\n",
       "      <td>0</td>\n",
       "      <td>0</td>\n",
       "      <td>0</td>\n",
       "      <td>0</td>\n",
       "      <td>2020-4330-49958-FQ-TR1-MAI.txt</td>\n",
       "      <td>NaN</td>\n",
       "    </tr>\n",
       "    <tr>\n",
       "      <th>3</th>\n",
       "      <td>1</td>\n",
       "      <td>1</td>\n",
       "      <td>1</td>\n",
       "      <td>1</td>\n",
       "      <td>1</td>\n",
       "      <td>1</td>\n",
       "      <td>0</td>\n",
       "      <td>0</td>\n",
       "      <td>0</td>\n",
       "      <td>0</td>\n",
       "      <td>0</td>\n",
       "      <td>0</td>\n",
       "      <td>0</td>\n",
       "      <td>0</td>\n",
       "      <td>0</td>\n",
       "      <td>0</td>\n",
       "      <td>0</td>\n",
       "      <td>0</td>\n",
       "      <td>12914-50286-FQ.txt</td>\n",
       "      <td>NaN</td>\n",
       "    </tr>\n",
       "    <tr>\n",
       "      <th>4</th>\n",
       "      <td>1</td>\n",
       "      <td>1</td>\n",
       "      <td>1</td>\n",
       "      <td>0</td>\n",
       "      <td>0</td>\n",
       "      <td>0</td>\n",
       "      <td>0</td>\n",
       "      <td>0</td>\n",
       "      <td>0</td>\n",
       "      <td>0</td>\n",
       "      <td>0</td>\n",
       "      <td>0</td>\n",
       "      <td>0</td>\n",
       "      <td>0</td>\n",
       "      <td>0</td>\n",
       "      <td>0</td>\n",
       "      <td>0</td>\n",
       "      <td>0</td>\n",
       "      <td>13353-47649-ATR3 FASE N°1 CDBC FQ.txt</td>\n",
       "      <td>NaN</td>\n",
       "    </tr>\n",
       "    <tr>\n",
       "      <th>...</th>\n",
       "      <td>...</td>\n",
       "      <td>...</td>\n",
       "      <td>...</td>\n",
       "      <td>...</td>\n",
       "      <td>...</td>\n",
       "      <td>...</td>\n",
       "      <td>...</td>\n",
       "      <td>...</td>\n",
       "      <td>...</td>\n",
       "      <td>...</td>\n",
       "      <td>...</td>\n",
       "      <td>...</td>\n",
       "      <td>...</td>\n",
       "      <td>...</td>\n",
       "      <td>...</td>\n",
       "      <td>...</td>\n",
       "      <td>...</td>\n",
       "      <td>...</td>\n",
       "      <td>...</td>\n",
       "      <td>...</td>\n",
       "    </tr>\n",
       "    <tr>\n",
       "      <th>502</th>\n",
       "      <td>1</td>\n",
       "      <td>1</td>\n",
       "      <td>1</td>\n",
       "      <td>0</td>\n",
       "      <td>0</td>\n",
       "      <td>0</td>\n",
       "      <td>0</td>\n",
       "      <td>0</td>\n",
       "      <td>0</td>\n",
       "      <td>0</td>\n",
       "      <td>0</td>\n",
       "      <td>0</td>\n",
       "      <td>0</td>\n",
       "      <td>0</td>\n",
       "      <td>0</td>\n",
       "      <td>0</td>\n",
       "      <td>0</td>\n",
       "      <td>0</td>\n",
       "      <td>2019-4854-44929-FQ-TR9-PAZ.txt</td>\n",
       "      <td>NaN</td>\n",
       "    </tr>\n",
       "    <tr>\n",
       "      <th>503</th>\n",
       "      <td>1</td>\n",
       "      <td>1</td>\n",
       "      <td>1</td>\n",
       "      <td>0</td>\n",
       "      <td>0</td>\n",
       "      <td>0</td>\n",
       "      <td>0</td>\n",
       "      <td>0</td>\n",
       "      <td>0</td>\n",
       "      <td>0</td>\n",
       "      <td>0</td>\n",
       "      <td>0</td>\n",
       "      <td>0</td>\n",
       "      <td>0</td>\n",
       "      <td>0</td>\n",
       "      <td>0</td>\n",
       "      <td>0</td>\n",
       "      <td>0</td>\n",
       "      <td>12-2019 - 13531-48311-FQ-BCO-ATR2 FASE N°2 CDB...</td>\n",
       "      <td>NaN</td>\n",
       "    </tr>\n",
       "    <tr>\n",
       "      <th>504</th>\n",
       "      <td>0</td>\n",
       "      <td>0</td>\n",
       "      <td>0</td>\n",
       "      <td>0</td>\n",
       "      <td>0</td>\n",
       "      <td>0</td>\n",
       "      <td>0</td>\n",
       "      <td>0</td>\n",
       "      <td>0</td>\n",
       "      <td>0</td>\n",
       "      <td>0</td>\n",
       "      <td>0</td>\n",
       "      <td>0</td>\n",
       "      <td>0</td>\n",
       "      <td>0</td>\n",
       "      <td>0</td>\n",
       "      <td>0</td>\n",
       "      <td>0</td>\n",
       "      <td>2019 - 4700048304 PCB.txt</td>\n",
       "      <td>NaN</td>\n",
       "    </tr>\n",
       "    <tr>\n",
       "      <th>505</th>\n",
       "      <td>1</td>\n",
       "      <td>0</td>\n",
       "      <td>0</td>\n",
       "      <td>0</td>\n",
       "      <td>0</td>\n",
       "      <td>0</td>\n",
       "      <td>0</td>\n",
       "      <td>0</td>\n",
       "      <td>0</td>\n",
       "      <td>0</td>\n",
       "      <td>0</td>\n",
       "      <td>0</td>\n",
       "      <td>1</td>\n",
       "      <td>1</td>\n",
       "      <td>1</td>\n",
       "      <td>1</td>\n",
       "      <td>1</td>\n",
       "      <td>1</td>\n",
       "      <td>2019-12691-62132-CR-TR10-PAZ.txt</td>\n",
       "      <td>NaN</td>\n",
       "    </tr>\n",
       "    <tr>\n",
       "      <th>506</th>\n",
       "      <td>1</td>\n",
       "      <td>1</td>\n",
       "      <td>1</td>\n",
       "      <td>1</td>\n",
       "      <td>1</td>\n",
       "      <td>1</td>\n",
       "      <td>0</td>\n",
       "      <td>0</td>\n",
       "      <td>0</td>\n",
       "      <td>0</td>\n",
       "      <td>0</td>\n",
       "      <td>0</td>\n",
       "      <td>0</td>\n",
       "      <td>0</td>\n",
       "      <td>0</td>\n",
       "      <td>0</td>\n",
       "      <td>0</td>\n",
       "      <td>0</td>\n",
       "      <td>2020-0003-49664-FQ-TRACEC-F1CAR.txt</td>\n",
       "      <td>NaN</td>\n",
       "    </tr>\n",
       "  </tbody>\n",
       "</table>\n",
       "<p>507 rows × 20 columns</p>\n",
       "</div>"
      ],
      "text/plain": [
       "    temperatura aceite humedad rigidez dielectrica tension interfacial  \\\n",
       "0                    0       0                   0                   0   \n",
       "1                    1       1                   1                   0   \n",
       "2                    1       1                   1                   1   \n",
       "3                    1       1                   1                   1   \n",
       "4                    1       1                   1                   0   \n",
       "..                 ...     ...                 ...                 ...   \n",
       "502                  1       1                   1                   0   \n",
       "503                  1       1                   1                   0   \n",
       "504                  0       0                   0                   0   \n",
       "505                  1       0                   0                   0   \n",
       "506                  1       1                   1                   1   \n",
       "\n",
       "    numero neutralizacion color hidroximetil furfuril metil polimerización  \\\n",
       "0                       0     0            0        0     0              0   \n",
       "1                       0     0            0        0     0              0   \n",
       "2                       1     1            0        0     0              0   \n",
       "3                       1     1            0        0     0              0   \n",
       "4                       0     0            0        0     0              0   \n",
       "..                    ...   ...          ...      ...   ...            ...   \n",
       "502                     0     0            0        0     0              0   \n",
       "503                     0     0            0        0     0              0   \n",
       "504                     0     0            0        0     0              0   \n",
       "505                     0     0            0        0     0              0   \n",
       "506                     1     1            0        0     0              0   \n",
       "\n",
       "    furfural acetilfurfural nitrogeno oxigeno dioxido de carbono metano  \\\n",
       "0          0              0         0       1                  0      0   \n",
       "1          0              0         0       0                  0      0   \n",
       "2          0              0         0       0                  0      0   \n",
       "3          0              0         0       0                  0      0   \n",
       "4          0              0         0       0                  0      0   \n",
       "..       ...            ...       ...     ...                ...    ...   \n",
       "502        0              0         0       0                  0      0   \n",
       "503        0              0         0       0                  0      0   \n",
       "504        0              0         0       0                  0      0   \n",
       "505        0              0         1       1                  1      1   \n",
       "506        0              0         0       0                  0      0   \n",
       "\n",
       "    etileno acetileno                                   Nombre documento  \\\n",
       "0         0         0                     2020-4330-2019-PAS-TR1-MAI.txt   \n",
       "1         0         0                    2020-12969-50834-FQ-TR1-MAI.txt   \n",
       "2         0         0                     2020-4330-49958-FQ-TR1-MAI.txt   \n",
       "3         0         0                                 12914-50286-FQ.txt   \n",
       "4         0         0              13353-47649-ATR3 FASE N°1 CDBC FQ.txt   \n",
       "..      ...       ...                                                ...   \n",
       "502       0         0                     2019-4854-44929-FQ-TR9-PAZ.txt   \n",
       "503       0         0  12-2019 - 13531-48311-FQ-BCO-ATR2 FASE N°2 CDB...   \n",
       "504       0         0                          2019 - 4700048304 PCB.txt   \n",
       "505       1         1                   2019-12691-62132-CR-TR10-PAZ.txt   \n",
       "506       0         0                2020-0003-49664-FQ-TRACEC-F1CAR.txt   \n",
       "\n",
       "    Target  \n",
       "0      NaN  \n",
       "1      NaN  \n",
       "2      NaN  \n",
       "3      NaN  \n",
       "4      NaN  \n",
       "..     ...  \n",
       "502    NaN  \n",
       "503    NaN  \n",
       "504    NaN  \n",
       "505    NaN  \n",
       "506    NaN  \n",
       "\n",
       "[507 rows x 20 columns]"
      ]
     },
     "execution_count": 26,
     "metadata": {},
     "output_type": "execute_result"
    }
   ],
   "source": [
    "doc_labels"
   ]
  },
  {
   "cell_type": "code",
   "execution_count": 27,
   "metadata": {},
   "outputs": [],
   "source": [
    "for i in range(len(doc_labels)):\n",
    "    if doc_labels[key_words_aceites].sum(axis=1).loc[i]>2:\n",
    "        doc_labels.loc[i][\"Target\"] = \"Aceites\"\n",
    "    elif doc_labels[key_words_gases].sum(axis=1).loc[i]>2:\n",
    "        doc_labels.loc[i][\"Target\"] = \"Gases\"\n",
    "    elif doc_labels[key_words_furanos].sum(axis=1).loc[i]>2:\n",
    "        doc_labels.loc[i][\"Target\"] = \"Furanos\"\n",
    "    else:\n",
    "        doc_labels.loc[i][\"Target\"] = \"Otros\""
   ]
  },
  {
   "cell_type": "code",
   "execution_count": 28,
   "metadata": {},
   "outputs": [
    {
     "data": {
      "text/html": [
       "<div>\n",
       "<style scoped>\n",
       "    .dataframe tbody tr th:only-of-type {\n",
       "        vertical-align: middle;\n",
       "    }\n",
       "\n",
       "    .dataframe tbody tr th {\n",
       "        vertical-align: top;\n",
       "    }\n",
       "\n",
       "    .dataframe thead th {\n",
       "        text-align: right;\n",
       "    }\n",
       "</style>\n",
       "<table border=\"1\" class=\"dataframe\">\n",
       "  <thead>\n",
       "    <tr style=\"text-align: right;\">\n",
       "      <th></th>\n",
       "      <th>temperatura aceite</th>\n",
       "      <th>humedad</th>\n",
       "      <th>rigidez dielectrica</th>\n",
       "      <th>tension interfacial</th>\n",
       "      <th>numero neutralizacion</th>\n",
       "      <th>color</th>\n",
       "      <th>hidroximetil</th>\n",
       "      <th>furfuril</th>\n",
       "      <th>metil</th>\n",
       "      <th>polimerización</th>\n",
       "      <th>furfural</th>\n",
       "      <th>acetilfurfural</th>\n",
       "      <th>nitrogeno</th>\n",
       "      <th>oxigeno</th>\n",
       "      <th>dioxido de carbono</th>\n",
       "      <th>metano</th>\n",
       "      <th>etileno</th>\n",
       "      <th>acetileno</th>\n",
       "      <th>Nombre documento</th>\n",
       "      <th>Target</th>\n",
       "    </tr>\n",
       "  </thead>\n",
       "  <tbody>\n",
       "    <tr>\n",
       "      <th>0</th>\n",
       "      <td>0</td>\n",
       "      <td>0</td>\n",
       "      <td>0</td>\n",
       "      <td>0</td>\n",
       "      <td>0</td>\n",
       "      <td>0</td>\n",
       "      <td>0</td>\n",
       "      <td>0</td>\n",
       "      <td>0</td>\n",
       "      <td>0</td>\n",
       "      <td>0</td>\n",
       "      <td>0</td>\n",
       "      <td>0</td>\n",
       "      <td>1</td>\n",
       "      <td>0</td>\n",
       "      <td>0</td>\n",
       "      <td>0</td>\n",
       "      <td>0</td>\n",
       "      <td>2020-4330-2019-PAS-TR1-MAI.txt</td>\n",
       "      <td>Otros</td>\n",
       "    </tr>\n",
       "    <tr>\n",
       "      <th>1</th>\n",
       "      <td>1</td>\n",
       "      <td>1</td>\n",
       "      <td>1</td>\n",
       "      <td>0</td>\n",
       "      <td>0</td>\n",
       "      <td>0</td>\n",
       "      <td>0</td>\n",
       "      <td>0</td>\n",
       "      <td>0</td>\n",
       "      <td>0</td>\n",
       "      <td>0</td>\n",
       "      <td>0</td>\n",
       "      <td>0</td>\n",
       "      <td>0</td>\n",
       "      <td>0</td>\n",
       "      <td>0</td>\n",
       "      <td>0</td>\n",
       "      <td>0</td>\n",
       "      <td>2020-12969-50834-FQ-TR1-MAI.txt</td>\n",
       "      <td>Aceites</td>\n",
       "    </tr>\n",
       "    <tr>\n",
       "      <th>2</th>\n",
       "      <td>1</td>\n",
       "      <td>1</td>\n",
       "      <td>1</td>\n",
       "      <td>1</td>\n",
       "      <td>1</td>\n",
       "      <td>1</td>\n",
       "      <td>0</td>\n",
       "      <td>0</td>\n",
       "      <td>0</td>\n",
       "      <td>0</td>\n",
       "      <td>0</td>\n",
       "      <td>0</td>\n",
       "      <td>0</td>\n",
       "      <td>0</td>\n",
       "      <td>0</td>\n",
       "      <td>0</td>\n",
       "      <td>0</td>\n",
       "      <td>0</td>\n",
       "      <td>2020-4330-49958-FQ-TR1-MAI.txt</td>\n",
       "      <td>Aceites</td>\n",
       "    </tr>\n",
       "    <tr>\n",
       "      <th>3</th>\n",
       "      <td>1</td>\n",
       "      <td>1</td>\n",
       "      <td>1</td>\n",
       "      <td>1</td>\n",
       "      <td>1</td>\n",
       "      <td>1</td>\n",
       "      <td>0</td>\n",
       "      <td>0</td>\n",
       "      <td>0</td>\n",
       "      <td>0</td>\n",
       "      <td>0</td>\n",
       "      <td>0</td>\n",
       "      <td>0</td>\n",
       "      <td>0</td>\n",
       "      <td>0</td>\n",
       "      <td>0</td>\n",
       "      <td>0</td>\n",
       "      <td>0</td>\n",
       "      <td>12914-50286-FQ.txt</td>\n",
       "      <td>Aceites</td>\n",
       "    </tr>\n",
       "    <tr>\n",
       "      <th>4</th>\n",
       "      <td>1</td>\n",
       "      <td>1</td>\n",
       "      <td>1</td>\n",
       "      <td>0</td>\n",
       "      <td>0</td>\n",
       "      <td>0</td>\n",
       "      <td>0</td>\n",
       "      <td>0</td>\n",
       "      <td>0</td>\n",
       "      <td>0</td>\n",
       "      <td>0</td>\n",
       "      <td>0</td>\n",
       "      <td>0</td>\n",
       "      <td>0</td>\n",
       "      <td>0</td>\n",
       "      <td>0</td>\n",
       "      <td>0</td>\n",
       "      <td>0</td>\n",
       "      <td>13353-47649-ATR3 FASE N°1 CDBC FQ.txt</td>\n",
       "      <td>Aceites</td>\n",
       "    </tr>\n",
       "    <tr>\n",
       "      <th>...</th>\n",
       "      <td>...</td>\n",
       "      <td>...</td>\n",
       "      <td>...</td>\n",
       "      <td>...</td>\n",
       "      <td>...</td>\n",
       "      <td>...</td>\n",
       "      <td>...</td>\n",
       "      <td>...</td>\n",
       "      <td>...</td>\n",
       "      <td>...</td>\n",
       "      <td>...</td>\n",
       "      <td>...</td>\n",
       "      <td>...</td>\n",
       "      <td>...</td>\n",
       "      <td>...</td>\n",
       "      <td>...</td>\n",
       "      <td>...</td>\n",
       "      <td>...</td>\n",
       "      <td>...</td>\n",
       "      <td>...</td>\n",
       "    </tr>\n",
       "    <tr>\n",
       "      <th>502</th>\n",
       "      <td>1</td>\n",
       "      <td>1</td>\n",
       "      <td>1</td>\n",
       "      <td>0</td>\n",
       "      <td>0</td>\n",
       "      <td>0</td>\n",
       "      <td>0</td>\n",
       "      <td>0</td>\n",
       "      <td>0</td>\n",
       "      <td>0</td>\n",
       "      <td>0</td>\n",
       "      <td>0</td>\n",
       "      <td>0</td>\n",
       "      <td>0</td>\n",
       "      <td>0</td>\n",
       "      <td>0</td>\n",
       "      <td>0</td>\n",
       "      <td>0</td>\n",
       "      <td>2019-4854-44929-FQ-TR9-PAZ.txt</td>\n",
       "      <td>Aceites</td>\n",
       "    </tr>\n",
       "    <tr>\n",
       "      <th>503</th>\n",
       "      <td>1</td>\n",
       "      <td>1</td>\n",
       "      <td>1</td>\n",
       "      <td>0</td>\n",
       "      <td>0</td>\n",
       "      <td>0</td>\n",
       "      <td>0</td>\n",
       "      <td>0</td>\n",
       "      <td>0</td>\n",
       "      <td>0</td>\n",
       "      <td>0</td>\n",
       "      <td>0</td>\n",
       "      <td>0</td>\n",
       "      <td>0</td>\n",
       "      <td>0</td>\n",
       "      <td>0</td>\n",
       "      <td>0</td>\n",
       "      <td>0</td>\n",
       "      <td>12-2019 - 13531-48311-FQ-BCO-ATR2 FASE N°2 CDB...</td>\n",
       "      <td>Aceites</td>\n",
       "    </tr>\n",
       "    <tr>\n",
       "      <th>504</th>\n",
       "      <td>0</td>\n",
       "      <td>0</td>\n",
       "      <td>0</td>\n",
       "      <td>0</td>\n",
       "      <td>0</td>\n",
       "      <td>0</td>\n",
       "      <td>0</td>\n",
       "      <td>0</td>\n",
       "      <td>0</td>\n",
       "      <td>0</td>\n",
       "      <td>0</td>\n",
       "      <td>0</td>\n",
       "      <td>0</td>\n",
       "      <td>0</td>\n",
       "      <td>0</td>\n",
       "      <td>0</td>\n",
       "      <td>0</td>\n",
       "      <td>0</td>\n",
       "      <td>2019 - 4700048304 PCB.txt</td>\n",
       "      <td>Otros</td>\n",
       "    </tr>\n",
       "    <tr>\n",
       "      <th>505</th>\n",
       "      <td>1</td>\n",
       "      <td>0</td>\n",
       "      <td>0</td>\n",
       "      <td>0</td>\n",
       "      <td>0</td>\n",
       "      <td>0</td>\n",
       "      <td>0</td>\n",
       "      <td>0</td>\n",
       "      <td>0</td>\n",
       "      <td>0</td>\n",
       "      <td>0</td>\n",
       "      <td>0</td>\n",
       "      <td>1</td>\n",
       "      <td>1</td>\n",
       "      <td>1</td>\n",
       "      <td>1</td>\n",
       "      <td>1</td>\n",
       "      <td>1</td>\n",
       "      <td>2019-12691-62132-CR-TR10-PAZ.txt</td>\n",
       "      <td>Gases</td>\n",
       "    </tr>\n",
       "    <tr>\n",
       "      <th>506</th>\n",
       "      <td>1</td>\n",
       "      <td>1</td>\n",
       "      <td>1</td>\n",
       "      <td>1</td>\n",
       "      <td>1</td>\n",
       "      <td>1</td>\n",
       "      <td>0</td>\n",
       "      <td>0</td>\n",
       "      <td>0</td>\n",
       "      <td>0</td>\n",
       "      <td>0</td>\n",
       "      <td>0</td>\n",
       "      <td>0</td>\n",
       "      <td>0</td>\n",
       "      <td>0</td>\n",
       "      <td>0</td>\n",
       "      <td>0</td>\n",
       "      <td>0</td>\n",
       "      <td>2020-0003-49664-FQ-TRACEC-F1CAR.txt</td>\n",
       "      <td>Aceites</td>\n",
       "    </tr>\n",
       "  </tbody>\n",
       "</table>\n",
       "<p>507 rows × 20 columns</p>\n",
       "</div>"
      ],
      "text/plain": [
       "    temperatura aceite humedad rigidez dielectrica tension interfacial  \\\n",
       "0                    0       0                   0                   0   \n",
       "1                    1       1                   1                   0   \n",
       "2                    1       1                   1                   1   \n",
       "3                    1       1                   1                   1   \n",
       "4                    1       1                   1                   0   \n",
       "..                 ...     ...                 ...                 ...   \n",
       "502                  1       1                   1                   0   \n",
       "503                  1       1                   1                   0   \n",
       "504                  0       0                   0                   0   \n",
       "505                  1       0                   0                   0   \n",
       "506                  1       1                   1                   1   \n",
       "\n",
       "    numero neutralizacion color hidroximetil furfuril metil polimerización  \\\n",
       "0                       0     0            0        0     0              0   \n",
       "1                       0     0            0        0     0              0   \n",
       "2                       1     1            0        0     0              0   \n",
       "3                       1     1            0        0     0              0   \n",
       "4                       0     0            0        0     0              0   \n",
       "..                    ...   ...          ...      ...   ...            ...   \n",
       "502                     0     0            0        0     0              0   \n",
       "503                     0     0            0        0     0              0   \n",
       "504                     0     0            0        0     0              0   \n",
       "505                     0     0            0        0     0              0   \n",
       "506                     1     1            0        0     0              0   \n",
       "\n",
       "    furfural acetilfurfural nitrogeno oxigeno dioxido de carbono metano  \\\n",
       "0          0              0         0       1                  0      0   \n",
       "1          0              0         0       0                  0      0   \n",
       "2          0              0         0       0                  0      0   \n",
       "3          0              0         0       0                  0      0   \n",
       "4          0              0         0       0                  0      0   \n",
       "..       ...            ...       ...     ...                ...    ...   \n",
       "502        0              0         0       0                  0      0   \n",
       "503        0              0         0       0                  0      0   \n",
       "504        0              0         0       0                  0      0   \n",
       "505        0              0         1       1                  1      1   \n",
       "506        0              0         0       0                  0      0   \n",
       "\n",
       "    etileno acetileno                                   Nombre documento  \\\n",
       "0         0         0                     2020-4330-2019-PAS-TR1-MAI.txt   \n",
       "1         0         0                    2020-12969-50834-FQ-TR1-MAI.txt   \n",
       "2         0         0                     2020-4330-49958-FQ-TR1-MAI.txt   \n",
       "3         0         0                                 12914-50286-FQ.txt   \n",
       "4         0         0              13353-47649-ATR3 FASE N°1 CDBC FQ.txt   \n",
       "..      ...       ...                                                ...   \n",
       "502       0         0                     2019-4854-44929-FQ-TR9-PAZ.txt   \n",
       "503       0         0  12-2019 - 13531-48311-FQ-BCO-ATR2 FASE N°2 CDB...   \n",
       "504       0         0                          2019 - 4700048304 PCB.txt   \n",
       "505       1         1                   2019-12691-62132-CR-TR10-PAZ.txt   \n",
       "506       0         0                2020-0003-49664-FQ-TRACEC-F1CAR.txt   \n",
       "\n",
       "      Target  \n",
       "0      Otros  \n",
       "1    Aceites  \n",
       "2    Aceites  \n",
       "3    Aceites  \n",
       "4    Aceites  \n",
       "..       ...  \n",
       "502  Aceites  \n",
       "503  Aceites  \n",
       "504    Otros  \n",
       "505    Gases  \n",
       "506  Aceites  \n",
       "\n",
       "[507 rows x 20 columns]"
      ]
     },
     "execution_count": 28,
     "metadata": {},
     "output_type": "execute_result"
    }
   ],
   "source": [
    "doc_labels"
   ]
  },
  {
   "cell_type": "code",
   "execution_count": 29,
   "metadata": {},
   "outputs": [
    {
     "data": {
      "text/plain": [
       "Aceites    283\n",
       "Gases      143\n",
       "Otros       79\n",
       "Furanos      2\n",
       "Name: Target, dtype: int64"
      ]
     },
     "execution_count": 29,
     "metadata": {},
     "output_type": "execute_result"
    }
   ],
   "source": [
    "doc_labels[\"Target\"].value_counts()"
   ]
  },
  {
   "cell_type": "code",
   "execution_count": 30,
   "metadata": {},
   "outputs": [],
   "source": [
    "import pandas as pd\n",
    "import numpy as np\n",
    "import matplotlib.pyplot as plt\n",
    "import seaborn as sb\n",
    "from sklearn.cluster import KMeans\n",
    "from sklearn.metrics import pairwise_distances_argmin_min\n",
    " \n",
    "%matplotlib inline\n",
    "from mpl_toolkits.mplot3d import Axes3D\n",
    "plt.rcParams['figure.figsize'] = (16, 9)\n",
    "plt.style.use('ggplot')"
   ]
  },
  {
   "cell_type": "code",
   "execution_count": 31,
   "metadata": {},
   "outputs": [],
   "source": [
    "doc_labels.set_index(\"Nombre documento\", inplace=True)"
   ]
  },
  {
   "cell_type": "code",
   "execution_count": 32,
   "metadata": {},
   "outputs": [
    {
     "data": {
      "text/html": [
       "<div>\n",
       "<style scoped>\n",
       "    .dataframe tbody tr th:only-of-type {\n",
       "        vertical-align: middle;\n",
       "    }\n",
       "\n",
       "    .dataframe tbody tr th {\n",
       "        vertical-align: top;\n",
       "    }\n",
       "\n",
       "    .dataframe thead th {\n",
       "        text-align: right;\n",
       "    }\n",
       "</style>\n",
       "<table border=\"1\" class=\"dataframe\">\n",
       "  <thead>\n",
       "    <tr style=\"text-align: right;\">\n",
       "      <th></th>\n",
       "      <th>temperatura aceite</th>\n",
       "      <th>humedad</th>\n",
       "      <th>rigidez dielectrica</th>\n",
       "      <th>tension interfacial</th>\n",
       "      <th>numero neutralizacion</th>\n",
       "      <th>color</th>\n",
       "      <th>hidroximetil</th>\n",
       "      <th>furfuril</th>\n",
       "      <th>metil</th>\n",
       "      <th>polimerización</th>\n",
       "      <th>furfural</th>\n",
       "      <th>acetilfurfural</th>\n",
       "      <th>nitrogeno</th>\n",
       "      <th>oxigeno</th>\n",
       "      <th>dioxido de carbono</th>\n",
       "      <th>metano</th>\n",
       "      <th>etileno</th>\n",
       "      <th>acetileno</th>\n",
       "      <th>Target</th>\n",
       "    </tr>\n",
       "    <tr>\n",
       "      <th>Nombre documento</th>\n",
       "      <th></th>\n",
       "      <th></th>\n",
       "      <th></th>\n",
       "      <th></th>\n",
       "      <th></th>\n",
       "      <th></th>\n",
       "      <th></th>\n",
       "      <th></th>\n",
       "      <th></th>\n",
       "      <th></th>\n",
       "      <th></th>\n",
       "      <th></th>\n",
       "      <th></th>\n",
       "      <th></th>\n",
       "      <th></th>\n",
       "      <th></th>\n",
       "      <th></th>\n",
       "      <th></th>\n",
       "      <th></th>\n",
       "    </tr>\n",
       "  </thead>\n",
       "  <tbody>\n",
       "    <tr>\n",
       "      <th>2020-4330-2019-PAS-TR1-MAI.txt</th>\n",
       "      <td>0</td>\n",
       "      <td>0</td>\n",
       "      <td>0</td>\n",
       "      <td>0</td>\n",
       "      <td>0</td>\n",
       "      <td>0</td>\n",
       "      <td>0</td>\n",
       "      <td>0</td>\n",
       "      <td>0</td>\n",
       "      <td>0</td>\n",
       "      <td>0</td>\n",
       "      <td>0</td>\n",
       "      <td>0</td>\n",
       "      <td>1</td>\n",
       "      <td>0</td>\n",
       "      <td>0</td>\n",
       "      <td>0</td>\n",
       "      <td>0</td>\n",
       "      <td>Otros</td>\n",
       "    </tr>\n",
       "    <tr>\n",
       "      <th>2020-12969-50834-FQ-TR1-MAI.txt</th>\n",
       "      <td>1</td>\n",
       "      <td>1</td>\n",
       "      <td>1</td>\n",
       "      <td>0</td>\n",
       "      <td>0</td>\n",
       "      <td>0</td>\n",
       "      <td>0</td>\n",
       "      <td>0</td>\n",
       "      <td>0</td>\n",
       "      <td>0</td>\n",
       "      <td>0</td>\n",
       "      <td>0</td>\n",
       "      <td>0</td>\n",
       "      <td>0</td>\n",
       "      <td>0</td>\n",
       "      <td>0</td>\n",
       "      <td>0</td>\n",
       "      <td>0</td>\n",
       "      <td>Aceites</td>\n",
       "    </tr>\n",
       "    <tr>\n",
       "      <th>2020-4330-49958-FQ-TR1-MAI.txt</th>\n",
       "      <td>1</td>\n",
       "      <td>1</td>\n",
       "      <td>1</td>\n",
       "      <td>1</td>\n",
       "      <td>1</td>\n",
       "      <td>1</td>\n",
       "      <td>0</td>\n",
       "      <td>0</td>\n",
       "      <td>0</td>\n",
       "      <td>0</td>\n",
       "      <td>0</td>\n",
       "      <td>0</td>\n",
       "      <td>0</td>\n",
       "      <td>0</td>\n",
       "      <td>0</td>\n",
       "      <td>0</td>\n",
       "      <td>0</td>\n",
       "      <td>0</td>\n",
       "      <td>Aceites</td>\n",
       "    </tr>\n",
       "    <tr>\n",
       "      <th>12914-50286-FQ.txt</th>\n",
       "      <td>1</td>\n",
       "      <td>1</td>\n",
       "      <td>1</td>\n",
       "      <td>1</td>\n",
       "      <td>1</td>\n",
       "      <td>1</td>\n",
       "      <td>0</td>\n",
       "      <td>0</td>\n",
       "      <td>0</td>\n",
       "      <td>0</td>\n",
       "      <td>0</td>\n",
       "      <td>0</td>\n",
       "      <td>0</td>\n",
       "      <td>0</td>\n",
       "      <td>0</td>\n",
       "      <td>0</td>\n",
       "      <td>0</td>\n",
       "      <td>0</td>\n",
       "      <td>Aceites</td>\n",
       "    </tr>\n",
       "    <tr>\n",
       "      <th>13353-47649-ATR3 FASE N°1 CDBC FQ.txt</th>\n",
       "      <td>1</td>\n",
       "      <td>1</td>\n",
       "      <td>1</td>\n",
       "      <td>0</td>\n",
       "      <td>0</td>\n",
       "      <td>0</td>\n",
       "      <td>0</td>\n",
       "      <td>0</td>\n",
       "      <td>0</td>\n",
       "      <td>0</td>\n",
       "      <td>0</td>\n",
       "      <td>0</td>\n",
       "      <td>0</td>\n",
       "      <td>0</td>\n",
       "      <td>0</td>\n",
       "      <td>0</td>\n",
       "      <td>0</td>\n",
       "      <td>0</td>\n",
       "      <td>Aceites</td>\n",
       "    </tr>\n",
       "  </tbody>\n",
       "</table>\n",
       "</div>"
      ],
      "text/plain": [
       "                                      temperatura aceite humedad  \\\n",
       "Nombre documento                                                   \n",
       "2020-4330-2019-PAS-TR1-MAI.txt                         0       0   \n",
       "2020-12969-50834-FQ-TR1-MAI.txt                        1       1   \n",
       "2020-4330-49958-FQ-TR1-MAI.txt                         1       1   \n",
       "12914-50286-FQ.txt                                     1       1   \n",
       "13353-47649-ATR3 FASE N°1 CDBC FQ.txt                  1       1   \n",
       "\n",
       "                                      rigidez dielectrica tension interfacial  \\\n",
       "Nombre documento                                                                \n",
       "2020-4330-2019-PAS-TR1-MAI.txt                          0                   0   \n",
       "2020-12969-50834-FQ-TR1-MAI.txt                         1                   0   \n",
       "2020-4330-49958-FQ-TR1-MAI.txt                          1                   1   \n",
       "12914-50286-FQ.txt                                      1                   1   \n",
       "13353-47649-ATR3 FASE N°1 CDBC FQ.txt                   1                   0   \n",
       "\n",
       "                                      numero neutralizacion color  \\\n",
       "Nombre documento                                                    \n",
       "2020-4330-2019-PAS-TR1-MAI.txt                            0     0   \n",
       "2020-12969-50834-FQ-TR1-MAI.txt                           0     0   \n",
       "2020-4330-49958-FQ-TR1-MAI.txt                            1     1   \n",
       "12914-50286-FQ.txt                                        1     1   \n",
       "13353-47649-ATR3 FASE N°1 CDBC FQ.txt                     0     0   \n",
       "\n",
       "                                      hidroximetil furfuril metil  \\\n",
       "Nombre documento                                                    \n",
       "2020-4330-2019-PAS-TR1-MAI.txt                   0        0     0   \n",
       "2020-12969-50834-FQ-TR1-MAI.txt                  0        0     0   \n",
       "2020-4330-49958-FQ-TR1-MAI.txt                   0        0     0   \n",
       "12914-50286-FQ.txt                               0        0     0   \n",
       "13353-47649-ATR3 FASE N°1 CDBC FQ.txt            0        0     0   \n",
       "\n",
       "                                      polimerización furfural acetilfurfural  \\\n",
       "Nombre documento                                                               \n",
       "2020-4330-2019-PAS-TR1-MAI.txt                     0        0              0   \n",
       "2020-12969-50834-FQ-TR1-MAI.txt                    0        0              0   \n",
       "2020-4330-49958-FQ-TR1-MAI.txt                     0        0              0   \n",
       "12914-50286-FQ.txt                                 0        0              0   \n",
       "13353-47649-ATR3 FASE N°1 CDBC FQ.txt              0        0              0   \n",
       "\n",
       "                                      nitrogeno oxigeno dioxido de carbono  \\\n",
       "Nombre documento                                                             \n",
       "2020-4330-2019-PAS-TR1-MAI.txt                0       1                  0   \n",
       "2020-12969-50834-FQ-TR1-MAI.txt               0       0                  0   \n",
       "2020-4330-49958-FQ-TR1-MAI.txt                0       0                  0   \n",
       "12914-50286-FQ.txt                            0       0                  0   \n",
       "13353-47649-ATR3 FASE N°1 CDBC FQ.txt         0       0                  0   \n",
       "\n",
       "                                      metano etileno acetileno   Target  \n",
       "Nombre documento                                                         \n",
       "2020-4330-2019-PAS-TR1-MAI.txt             0       0         0    Otros  \n",
       "2020-12969-50834-FQ-TR1-MAI.txt            0       0         0  Aceites  \n",
       "2020-4330-49958-FQ-TR1-MAI.txt             0       0         0  Aceites  \n",
       "12914-50286-FQ.txt                         0       0         0  Aceites  \n",
       "13353-47649-ATR3 FASE N°1 CDBC FQ.txt      0       0         0  Aceites  "
      ]
     },
     "execution_count": 32,
     "metadata": {},
     "output_type": "execute_result"
    }
   ],
   "source": [
    "doc_labels.head()"
   ]
  },
  {
   "cell_type": "code",
   "execution_count": 33,
   "metadata": {},
   "outputs": [],
   "source": [
    "X_train = doc_labels[key_words]"
   ]
  },
  {
   "cell_type": "code",
   "execution_count": 34,
   "metadata": {},
   "outputs": [
    {
     "data": {
      "text/html": [
       "<div>\n",
       "<style scoped>\n",
       "    .dataframe tbody tr th:only-of-type {\n",
       "        vertical-align: middle;\n",
       "    }\n",
       "\n",
       "    .dataframe tbody tr th {\n",
       "        vertical-align: top;\n",
       "    }\n",
       "\n",
       "    .dataframe thead th {\n",
       "        text-align: right;\n",
       "    }\n",
       "</style>\n",
       "<table border=\"1\" class=\"dataframe\">\n",
       "  <thead>\n",
       "    <tr style=\"text-align: right;\">\n",
       "      <th></th>\n",
       "      <th>temperatura aceite</th>\n",
       "      <th>humedad</th>\n",
       "      <th>rigidez dielectrica</th>\n",
       "      <th>tension interfacial</th>\n",
       "      <th>numero neutralizacion</th>\n",
       "      <th>color</th>\n",
       "      <th>hidroximetil</th>\n",
       "      <th>furfuril</th>\n",
       "      <th>metil</th>\n",
       "      <th>polimerización</th>\n",
       "      <th>furfural</th>\n",
       "      <th>acetilfurfural</th>\n",
       "      <th>nitrogeno</th>\n",
       "      <th>oxigeno</th>\n",
       "      <th>dioxido de carbono</th>\n",
       "      <th>metano</th>\n",
       "      <th>etileno</th>\n",
       "      <th>acetileno</th>\n",
       "    </tr>\n",
       "    <tr>\n",
       "      <th>Nombre documento</th>\n",
       "      <th></th>\n",
       "      <th></th>\n",
       "      <th></th>\n",
       "      <th></th>\n",
       "      <th></th>\n",
       "      <th></th>\n",
       "      <th></th>\n",
       "      <th></th>\n",
       "      <th></th>\n",
       "      <th></th>\n",
       "      <th></th>\n",
       "      <th></th>\n",
       "      <th></th>\n",
       "      <th></th>\n",
       "      <th></th>\n",
       "      <th></th>\n",
       "      <th></th>\n",
       "      <th></th>\n",
       "    </tr>\n",
       "  </thead>\n",
       "  <tbody>\n",
       "    <tr>\n",
       "      <th>2020-4330-2019-PAS-TR1-MAI.txt</th>\n",
       "      <td>0</td>\n",
       "      <td>0</td>\n",
       "      <td>0</td>\n",
       "      <td>0</td>\n",
       "      <td>0</td>\n",
       "      <td>0</td>\n",
       "      <td>0</td>\n",
       "      <td>0</td>\n",
       "      <td>0</td>\n",
       "      <td>0</td>\n",
       "      <td>0</td>\n",
       "      <td>0</td>\n",
       "      <td>0</td>\n",
       "      <td>1</td>\n",
       "      <td>0</td>\n",
       "      <td>0</td>\n",
       "      <td>0</td>\n",
       "      <td>0</td>\n",
       "    </tr>\n",
       "    <tr>\n",
       "      <th>2020-12969-50834-FQ-TR1-MAI.txt</th>\n",
       "      <td>1</td>\n",
       "      <td>1</td>\n",
       "      <td>1</td>\n",
       "      <td>0</td>\n",
       "      <td>0</td>\n",
       "      <td>0</td>\n",
       "      <td>0</td>\n",
       "      <td>0</td>\n",
       "      <td>0</td>\n",
       "      <td>0</td>\n",
       "      <td>0</td>\n",
       "      <td>0</td>\n",
       "      <td>0</td>\n",
       "      <td>0</td>\n",
       "      <td>0</td>\n",
       "      <td>0</td>\n",
       "      <td>0</td>\n",
       "      <td>0</td>\n",
       "    </tr>\n",
       "    <tr>\n",
       "      <th>2020-4330-49958-FQ-TR1-MAI.txt</th>\n",
       "      <td>1</td>\n",
       "      <td>1</td>\n",
       "      <td>1</td>\n",
       "      <td>1</td>\n",
       "      <td>1</td>\n",
       "      <td>1</td>\n",
       "      <td>0</td>\n",
       "      <td>0</td>\n",
       "      <td>0</td>\n",
       "      <td>0</td>\n",
       "      <td>0</td>\n",
       "      <td>0</td>\n",
       "      <td>0</td>\n",
       "      <td>0</td>\n",
       "      <td>0</td>\n",
       "      <td>0</td>\n",
       "      <td>0</td>\n",
       "      <td>0</td>\n",
       "    </tr>\n",
       "    <tr>\n",
       "      <th>12914-50286-FQ.txt</th>\n",
       "      <td>1</td>\n",
       "      <td>1</td>\n",
       "      <td>1</td>\n",
       "      <td>1</td>\n",
       "      <td>1</td>\n",
       "      <td>1</td>\n",
       "      <td>0</td>\n",
       "      <td>0</td>\n",
       "      <td>0</td>\n",
       "      <td>0</td>\n",
       "      <td>0</td>\n",
       "      <td>0</td>\n",
       "      <td>0</td>\n",
       "      <td>0</td>\n",
       "      <td>0</td>\n",
       "      <td>0</td>\n",
       "      <td>0</td>\n",
       "      <td>0</td>\n",
       "    </tr>\n",
       "    <tr>\n",
       "      <th>13353-47649-ATR3 FASE N°1 CDBC FQ.txt</th>\n",
       "      <td>1</td>\n",
       "      <td>1</td>\n",
       "      <td>1</td>\n",
       "      <td>0</td>\n",
       "      <td>0</td>\n",
       "      <td>0</td>\n",
       "      <td>0</td>\n",
       "      <td>0</td>\n",
       "      <td>0</td>\n",
       "      <td>0</td>\n",
       "      <td>0</td>\n",
       "      <td>0</td>\n",
       "      <td>0</td>\n",
       "      <td>0</td>\n",
       "      <td>0</td>\n",
       "      <td>0</td>\n",
       "      <td>0</td>\n",
       "      <td>0</td>\n",
       "    </tr>\n",
       "  </tbody>\n",
       "</table>\n",
       "</div>"
      ],
      "text/plain": [
       "                                      temperatura aceite humedad  \\\n",
       "Nombre documento                                                   \n",
       "2020-4330-2019-PAS-TR1-MAI.txt                         0       0   \n",
       "2020-12969-50834-FQ-TR1-MAI.txt                        1       1   \n",
       "2020-4330-49958-FQ-TR1-MAI.txt                         1       1   \n",
       "12914-50286-FQ.txt                                     1       1   \n",
       "13353-47649-ATR3 FASE N°1 CDBC FQ.txt                  1       1   \n",
       "\n",
       "                                      rigidez dielectrica tension interfacial  \\\n",
       "Nombre documento                                                                \n",
       "2020-4330-2019-PAS-TR1-MAI.txt                          0                   0   \n",
       "2020-12969-50834-FQ-TR1-MAI.txt                         1                   0   \n",
       "2020-4330-49958-FQ-TR1-MAI.txt                          1                   1   \n",
       "12914-50286-FQ.txt                                      1                   1   \n",
       "13353-47649-ATR3 FASE N°1 CDBC FQ.txt                   1                   0   \n",
       "\n",
       "                                      numero neutralizacion color  \\\n",
       "Nombre documento                                                    \n",
       "2020-4330-2019-PAS-TR1-MAI.txt                            0     0   \n",
       "2020-12969-50834-FQ-TR1-MAI.txt                           0     0   \n",
       "2020-4330-49958-FQ-TR1-MAI.txt                            1     1   \n",
       "12914-50286-FQ.txt                                        1     1   \n",
       "13353-47649-ATR3 FASE N°1 CDBC FQ.txt                     0     0   \n",
       "\n",
       "                                      hidroximetil furfuril metil  \\\n",
       "Nombre documento                                                    \n",
       "2020-4330-2019-PAS-TR1-MAI.txt                   0        0     0   \n",
       "2020-12969-50834-FQ-TR1-MAI.txt                  0        0     0   \n",
       "2020-4330-49958-FQ-TR1-MAI.txt                   0        0     0   \n",
       "12914-50286-FQ.txt                               0        0     0   \n",
       "13353-47649-ATR3 FASE N°1 CDBC FQ.txt            0        0     0   \n",
       "\n",
       "                                      polimerización furfural acetilfurfural  \\\n",
       "Nombre documento                                                               \n",
       "2020-4330-2019-PAS-TR1-MAI.txt                     0        0              0   \n",
       "2020-12969-50834-FQ-TR1-MAI.txt                    0        0              0   \n",
       "2020-4330-49958-FQ-TR1-MAI.txt                     0        0              0   \n",
       "12914-50286-FQ.txt                                 0        0              0   \n",
       "13353-47649-ATR3 FASE N°1 CDBC FQ.txt              0        0              0   \n",
       "\n",
       "                                      nitrogeno oxigeno dioxido de carbono  \\\n",
       "Nombre documento                                                             \n",
       "2020-4330-2019-PAS-TR1-MAI.txt                0       1                  0   \n",
       "2020-12969-50834-FQ-TR1-MAI.txt               0       0                  0   \n",
       "2020-4330-49958-FQ-TR1-MAI.txt                0       0                  0   \n",
       "12914-50286-FQ.txt                            0       0                  0   \n",
       "13353-47649-ATR3 FASE N°1 CDBC FQ.txt         0       0                  0   \n",
       "\n",
       "                                      metano etileno acetileno  \n",
       "Nombre documento                                                \n",
       "2020-4330-2019-PAS-TR1-MAI.txt             0       0         0  \n",
       "2020-12969-50834-FQ-TR1-MAI.txt            0       0         0  \n",
       "2020-4330-49958-FQ-TR1-MAI.txt             0       0         0  \n",
       "12914-50286-FQ.txt                         0       0         0  \n",
       "13353-47649-ATR3 FASE N°1 CDBC FQ.txt      0       0         0  "
      ]
     },
     "execution_count": 34,
     "metadata": {},
     "output_type": "execute_result"
    }
   ],
   "source": [
    "X_train.head()"
   ]
  },
  {
   "cell_type": "code",
   "execution_count": 35,
   "metadata": {},
   "outputs": [
    {
     "name": "stderr",
     "output_type": "stream",
     "text": [
      "<ipython-input-35-529f03d26f08>:4: ConvergenceWarning: Number of distinct clusters (9) found smaller than n_clusters (10). Possibly due to duplicate points in X.\n",
      "  score = [kmeans[i].fit(X_train).score(X_train) for i in range(len(kmeans))]\n",
      "<ipython-input-35-529f03d26f08>:4: ConvergenceWarning: Number of distinct clusters (9) found smaller than n_clusters (11). Possibly due to duplicate points in X.\n",
      "  score = [kmeans[i].fit(X_train).score(X_train) for i in range(len(kmeans))]\n",
      "<ipython-input-35-529f03d26f08>:4: ConvergenceWarning: Number of distinct clusters (9) found smaller than n_clusters (12). Possibly due to duplicate points in X.\n",
      "  score = [kmeans[i].fit(X_train).score(X_train) for i in range(len(kmeans))]\n",
      "<ipython-input-35-529f03d26f08>:4: ConvergenceWarning: Number of distinct clusters (9) found smaller than n_clusters (13). Possibly due to duplicate points in X.\n",
      "  score = [kmeans[i].fit(X_train).score(X_train) for i in range(len(kmeans))]\n",
      "<ipython-input-35-529f03d26f08>:4: ConvergenceWarning: Number of distinct clusters (9) found smaller than n_clusters (14). Possibly due to duplicate points in X.\n",
      "  score = [kmeans[i].fit(X_train).score(X_train) for i in range(len(kmeans))]\n",
      "<ipython-input-35-529f03d26f08>:4: ConvergenceWarning: Number of distinct clusters (9) found smaller than n_clusters (15). Possibly due to duplicate points in X.\n",
      "  score = [kmeans[i].fit(X_train).score(X_train) for i in range(len(kmeans))]\n",
      "<ipython-input-35-529f03d26f08>:4: ConvergenceWarning: Number of distinct clusters (9) found smaller than n_clusters (16). Possibly due to duplicate points in X.\n",
      "  score = [kmeans[i].fit(X_train).score(X_train) for i in range(len(kmeans))]\n",
      "<ipython-input-35-529f03d26f08>:4: ConvergenceWarning: Number of distinct clusters (9) found smaller than n_clusters (17). Possibly due to duplicate points in X.\n",
      "  score = [kmeans[i].fit(X_train).score(X_train) for i in range(len(kmeans))]\n",
      "<ipython-input-35-529f03d26f08>:4: ConvergenceWarning: Number of distinct clusters (9) found smaller than n_clusters (18). Possibly due to duplicate points in X.\n",
      "  score = [kmeans[i].fit(X_train).score(X_train) for i in range(len(kmeans))]\n",
      "<ipython-input-35-529f03d26f08>:4: ConvergenceWarning: Number of distinct clusters (9) found smaller than n_clusters (19). Possibly due to duplicate points in X.\n",
      "  score = [kmeans[i].fit(X_train).score(X_train) for i in range(len(kmeans))]\n"
     ]
    },
    {
     "data": {
      "image/png": "[encoded data removed]",
      "text/plain": [
       "<Figure size 1152x648 with 1 Axes>"
      ]
     },
     "metadata": {},
     "output_type": "display_data"
    }
   ],
   "source": [
    "Nc = range(1, 20)\n",
    "kmeans = [KMeans(n_clusters=i) for i in Nc]\n",
    "kmeans\n",
    "score = [kmeans[i].fit(X_train).score(X_train) for i in range(len(kmeans))]\n",
    "score\n",
    "plt.plot(Nc,score)\n",
    "plt.xlabel('Number of Clusters')\n",
    "plt.ylabel('Score')\n",
    "plt.title('Elbow Curve')\n",
    "plt.show()"
   ]
  },
  {
   "cell_type": "code",
   "execution_count": 36,
   "metadata": {},
   "outputs": [
    {
     "name": "stdout",
     "output_type": "stream",
     "text": [
      "[[ 1.00000000e+00  1.00000000e+00  1.00000000e+00  1.00000000e+00\n",
      "   1.00000000e+00  1.00000000e+00  0.00000000e+00  0.00000000e+00\n",
      "   0.00000000e+00  0.00000000e+00  0.00000000e+00  0.00000000e+00\n",
      "   5.47945205e-02  2.77555756e-16  0.00000000e+00 -2.22044605e-16\n",
      "  -2.22044605e-16 -2.22044605e-16]\n",
      " [ 9.86206897e-01  1.37931034e-02  0.00000000e+00  1.37931034e-02\n",
      "   4.44089210e-16  1.37931034e-02  0.00000000e+00  0.00000000e+00\n",
      "   0.00000000e+00  0.00000000e+00  0.00000000e+00  0.00000000e+00\n",
      "   1.00000000e+00  1.00000000e+00  9.86206897e-01  1.00000000e+00\n",
      "   1.00000000e+00  1.00000000e+00]\n",
      " [ 9.85401460e-01  1.00000000e+00  9.85401460e-01 -2.77555756e-16\n",
      "   4.44089210e-16  1.45985401e-02  1.45985401e-02  1.45985401e-02\n",
      "   1.45985401e-02  0.00000000e+00  1.45985401e-02  1.45985401e-02\n",
      "   5.55111512e-17  1.45985401e-02 -5.55111512e-17 -2.22044605e-16\n",
      "  -2.22044605e-16 -2.22044605e-16]\n",
      " [ 2.22044605e-16  4.44089210e-16  0.00000000e+00 -1.11022302e-16\n",
      "   2.22044605e-16 -1.11022302e-16  0.00000000e+00  0.00000000e+00\n",
      "   0.00000000e+00  0.00000000e+00  0.00000000e+00  0.00000000e+00\n",
      "  -2.77555756e-16  2.78481013e-01 -1.11022302e-16 -1.66533454e-16\n",
      "  -1.66533454e-16 -1.66533454e-16]]\n"
     ]
    }
   ],
   "source": [
    "kmeans = KMeans(n_clusters=4).fit(X_train)\n",
    "centroids = kmeans.cluster_centers_\n",
    "print(centroids)"
   ]
  },
  {
   "cell_type": "code",
   "execution_count": 37,
   "metadata": {},
   "outputs": [
    {
     "name": "stderr",
     "output_type": "stream",
     "text": [
      "<ipython-input-37-5ee3b4c8cb58>:11: MatplotlibDeprecationWarning: Axes3D(fig) adding itself to the figure is deprecated since 3.4. Pass the keyword argument auto_add_to_figure=False and use fig.add_axes(ax) to suppress this warning. The default value of auto_add_to_figure will change to False in mpl3.5 and True values will no longer work in 3.6.  This is consistent with other Axes classes.\n",
      "  ax = Axes3D(fig)\n"
     ]
    },
    {
     "data": {
      "text/plain": [
       "<mpl_toolkits.mplot3d.art3d.Path3DCollection at 0x7f9c801a0640>"
      ]
     },
     "execution_count": 37,
     "metadata": {},
     "output_type": "execute_result"
    },
    {
     "data": {
      "image/png": "[encoded data removed]",
      "text/plain": [
       "<Figure size 1152x648 with 1 Axes>"
      ]
     },
     "metadata": {},
     "output_type": "display_data"
    }
   ],
   "source": [
    "# Predicting the clusters\n",
    "labels = kmeans.predict(X_train)\n",
    "# Getting the cluster centers\n",
    "C = kmeans.cluster_centers_\n",
    "colores=['red','green','blue', 'yellow']\n",
    "asignar=[]\n",
    "for row in labels:\n",
    "    asignar.append(colores[row])\n",
    "\n",
    "fig = plt.figure()\n",
    "ax = Axes3D(fig)\n",
    "ax.scatter(X[:, 0], X[:, 1], X[:, 2], c=asignar,s=60)\n",
    "ax.scatter(C[:, 0], C[:, 1], C[:, 2], marker='*', c=colores, s=1000)"
   ]
  },
  {
   "cell_type": "code",
   "execution_count": 38,
   "metadata": {},
   "outputs": [],
   "source": [
    "from collections import Counter"
   ]
  },
  {
   "cell_type": "code",
   "execution_count": 39,
   "metadata": {},
   "outputs": [
    {
     "data": {
      "text/plain": [
       "Counter({3: 79, 2: 137, 0: 146, 1: 145})"
      ]
     },
     "execution_count": 39,
     "metadata": {},
     "output_type": "execute_result"
    }
   ],
   "source": [
    "Counter(labels)"
   ]
  },
  {
   "cell_type": "code",
   "execution_count": 40,
   "metadata": {},
   "outputs": [],
   "source": [
    "X_train_categories = X_train.join(doc_labels[[\"Target\"]])"
   ]
  },
  {
   "cell_type": "code",
   "execution_count": 41,
   "metadata": {},
   "outputs": [
    {
     "data": {
      "text/html": [
       "<div>\n",
       "<style scoped>\n",
       "    .dataframe tbody tr th:only-of-type {\n",
       "        vertical-align: middle;\n",
       "    }\n",
       "\n",
       "    .dataframe tbody tr th {\n",
       "        vertical-align: top;\n",
       "    }\n",
       "\n",
       "    .dataframe thead th {\n",
       "        text-align: right;\n",
       "    }\n",
       "</style>\n",
       "<table border=\"1\" class=\"dataframe\">\n",
       "  <thead>\n",
       "    <tr style=\"text-align: right;\">\n",
       "      <th></th>\n",
       "      <th>temperatura aceite</th>\n",
       "      <th>humedad</th>\n",
       "      <th>rigidez dielectrica</th>\n",
       "      <th>tension interfacial</th>\n",
       "      <th>numero neutralizacion</th>\n",
       "      <th>color</th>\n",
       "      <th>hidroximetil</th>\n",
       "      <th>furfuril</th>\n",
       "      <th>metil</th>\n",
       "      <th>polimerización</th>\n",
       "      <th>furfural</th>\n",
       "      <th>acetilfurfural</th>\n",
       "      <th>nitrogeno</th>\n",
       "      <th>oxigeno</th>\n",
       "      <th>dioxido de carbono</th>\n",
       "      <th>metano</th>\n",
       "      <th>etileno</th>\n",
       "      <th>acetileno</th>\n",
       "      <th>Target</th>\n",
       "    </tr>\n",
       "    <tr>\n",
       "      <th>Nombre documento</th>\n",
       "      <th></th>\n",
       "      <th></th>\n",
       "      <th></th>\n",
       "      <th></th>\n",
       "      <th></th>\n",
       "      <th></th>\n",
       "      <th></th>\n",
       "      <th></th>\n",
       "      <th></th>\n",
       "      <th></th>\n",
       "      <th></th>\n",
       "      <th></th>\n",
       "      <th></th>\n",
       "      <th></th>\n",
       "      <th></th>\n",
       "      <th></th>\n",
       "      <th></th>\n",
       "      <th></th>\n",
       "      <th></th>\n",
       "    </tr>\n",
       "  </thead>\n",
       "  <tbody>\n",
       "    <tr>\n",
       "      <th>2020-4330-2019-PAS-TR1-MAI.txt</th>\n",
       "      <td>0</td>\n",
       "      <td>0</td>\n",
       "      <td>0</td>\n",
       "      <td>0</td>\n",
       "      <td>0</td>\n",
       "      <td>0</td>\n",
       "      <td>0</td>\n",
       "      <td>0</td>\n",
       "      <td>0</td>\n",
       "      <td>0</td>\n",
       "      <td>0</td>\n",
       "      <td>0</td>\n",
       "      <td>0</td>\n",
       "      <td>1</td>\n",
       "      <td>0</td>\n",
       "      <td>0</td>\n",
       "      <td>0</td>\n",
       "      <td>0</td>\n",
       "      <td>Otros</td>\n",
       "    </tr>\n",
       "    <tr>\n",
       "      <th>2020-12969-50834-FQ-TR1-MAI.txt</th>\n",
       "      <td>1</td>\n",
       "      <td>1</td>\n",
       "      <td>1</td>\n",
       "      <td>0</td>\n",
       "      <td>0</td>\n",
       "      <td>0</td>\n",
       "      <td>0</td>\n",
       "      <td>0</td>\n",
       "      <td>0</td>\n",
       "      <td>0</td>\n",
       "      <td>0</td>\n",
       "      <td>0</td>\n",
       "      <td>0</td>\n",
       "      <td>0</td>\n",
       "      <td>0</td>\n",
       "      <td>0</td>\n",
       "      <td>0</td>\n",
       "      <td>0</td>\n",
       "      <td>Aceites</td>\n",
       "    </tr>\n",
       "    <tr>\n",
       "      <th>2020-4330-49958-FQ-TR1-MAI.txt</th>\n",
       "      <td>1</td>\n",
       "      <td>1</td>\n",
       "      <td>1</td>\n",
       "      <td>1</td>\n",
       "      <td>1</td>\n",
       "      <td>1</td>\n",
       "      <td>0</td>\n",
       "      <td>0</td>\n",
       "      <td>0</td>\n",
       "      <td>0</td>\n",
       "      <td>0</td>\n",
       "      <td>0</td>\n",
       "      <td>0</td>\n",
       "      <td>0</td>\n",
       "      <td>0</td>\n",
       "      <td>0</td>\n",
       "      <td>0</td>\n",
       "      <td>0</td>\n",
       "      <td>Aceites</td>\n",
       "    </tr>\n",
       "    <tr>\n",
       "      <th>12914-50286-FQ.txt</th>\n",
       "      <td>1</td>\n",
       "      <td>1</td>\n",
       "      <td>1</td>\n",
       "      <td>1</td>\n",
       "      <td>1</td>\n",
       "      <td>1</td>\n",
       "      <td>0</td>\n",
       "      <td>0</td>\n",
       "      <td>0</td>\n",
       "      <td>0</td>\n",
       "      <td>0</td>\n",
       "      <td>0</td>\n",
       "      <td>0</td>\n",
       "      <td>0</td>\n",
       "      <td>0</td>\n",
       "      <td>0</td>\n",
       "      <td>0</td>\n",
       "      <td>0</td>\n",
       "      <td>Aceites</td>\n",
       "    </tr>\n",
       "    <tr>\n",
       "      <th>13353-47649-ATR3 FASE N°1 CDBC FQ.txt</th>\n",
       "      <td>1</td>\n",
       "      <td>1</td>\n",
       "      <td>1</td>\n",
       "      <td>0</td>\n",
       "      <td>0</td>\n",
       "      <td>0</td>\n",
       "      <td>0</td>\n",
       "      <td>0</td>\n",
       "      <td>0</td>\n",
       "      <td>0</td>\n",
       "      <td>0</td>\n",
       "      <td>0</td>\n",
       "      <td>0</td>\n",
       "      <td>0</td>\n",
       "      <td>0</td>\n",
       "      <td>0</td>\n",
       "      <td>0</td>\n",
       "      <td>0</td>\n",
       "      <td>Aceites</td>\n",
       "    </tr>\n",
       "  </tbody>\n",
       "</table>\n",
       "</div>"
      ],
      "text/plain": [
       "                                      temperatura aceite humedad  \\\n",
       "Nombre documento                                                   \n",
       "2020-4330-2019-PAS-TR1-MAI.txt                         0       0   \n",
       "2020-12969-50834-FQ-TR1-MAI.txt                        1       1   \n",
       "2020-4330-49958-FQ-TR1-MAI.txt                         1       1   \n",
       "12914-50286-FQ.txt                                     1       1   \n",
       "13353-47649-ATR3 FASE N°1 CDBC FQ.txt                  1       1   \n",
       "\n",
       "                                      rigidez dielectrica tension interfacial  \\\n",
       "Nombre documento                                                                \n",
       "2020-4330-2019-PAS-TR1-MAI.txt                          0                   0   \n",
       "2020-12969-50834-FQ-TR1-MAI.txt                         1                   0   \n",
       "2020-4330-49958-FQ-TR1-MAI.txt                          1                   1   \n",
       "12914-50286-FQ.txt                                      1                   1   \n",
       "13353-47649-ATR3 FASE N°1 CDBC FQ.txt                   1                   0   \n",
       "\n",
       "                                      numero neutralizacion color  \\\n",
       "Nombre documento                                                    \n",
       "2020-4330-2019-PAS-TR1-MAI.txt                            0     0   \n",
       "2020-12969-50834-FQ-TR1-MAI.txt                           0     0   \n",
       "2020-4330-49958-FQ-TR1-MAI.txt                            1     1   \n",
       "12914-50286-FQ.txt                                        1     1   \n",
       "13353-47649-ATR3 FASE N°1 CDBC FQ.txt                     0     0   \n",
       "\n",
       "                                      hidroximetil furfuril metil  \\\n",
       "Nombre documento                                                    \n",
       "2020-4330-2019-PAS-TR1-MAI.txt                   0        0     0   \n",
       "2020-12969-50834-FQ-TR1-MAI.txt                  0        0     0   \n",
       "2020-4330-49958-FQ-TR1-MAI.txt                   0        0     0   \n",
       "12914-50286-FQ.txt                               0        0     0   \n",
       "13353-47649-ATR3 FASE N°1 CDBC FQ.txt            0        0     0   \n",
       "\n",
       "                                      polimerización furfural acetilfurfural  \\\n",
       "Nombre documento                                                               \n",
       "2020-4330-2019-PAS-TR1-MAI.txt                     0        0              0   \n",
       "2020-12969-50834-FQ-TR1-MAI.txt                    0        0              0   \n",
       "2020-4330-49958-FQ-TR1-MAI.txt                     0        0              0   \n",
       "12914-50286-FQ.txt                                 0        0              0   \n",
       "13353-47649-ATR3 FASE N°1 CDBC FQ.txt              0        0              0   \n",
       "\n",
       "                                      nitrogeno oxigeno dioxido de carbono  \\\n",
       "Nombre documento                                                             \n",
       "2020-4330-2019-PAS-TR1-MAI.txt                0       1                  0   \n",
       "2020-12969-50834-FQ-TR1-MAI.txt               0       0                  0   \n",
       "2020-4330-49958-FQ-TR1-MAI.txt                0       0                  0   \n",
       "12914-50286-FQ.txt                            0       0                  0   \n",
       "13353-47649-ATR3 FASE N°1 CDBC FQ.txt         0       0                  0   \n",
       "\n",
       "                                      metano etileno acetileno   Target  \n",
       "Nombre documento                                                         \n",
       "2020-4330-2019-PAS-TR1-MAI.txt             0       0         0    Otros  \n",
       "2020-12969-50834-FQ-TR1-MAI.txt            0       0         0  Aceites  \n",
       "2020-4330-49958-FQ-TR1-MAI.txt             0       0         0  Aceites  \n",
       "12914-50286-FQ.txt                         0       0         0  Aceites  \n",
       "13353-47649-ATR3 FASE N°1 CDBC FQ.txt      0       0         0  Aceites  "
      ]
     },
     "execution_count": 41,
     "metadata": {},
     "output_type": "execute_result"
    }
   ],
   "source": [
    "X_train_categories.head()"
   ]
  },
  {
   "cell_type": "code",
   "execution_count": 42,
   "metadata": {},
   "outputs": [],
   "source": [
    "resultados =  pd.DataFrame()\n",
    "resultados['usuario']=X_train_categories.index\n",
    "resultados['categoria']=X_train_categories['Target'].values\n",
    "resultados['label'] = labels"
   ]
  },
  {
   "cell_type": "code",
   "execution_count": 43,
   "metadata": {},
   "outputs": [
    {
     "data": {
      "text/html": [
       "<div>\n",
       "<style scoped>\n",
       "    .dataframe tbody tr th:only-of-type {\n",
       "        vertical-align: middle;\n",
       "    }\n",
       "\n",
       "    .dataframe tbody tr th {\n",
       "        vertical-align: top;\n",
       "    }\n",
       "\n",
       "    .dataframe thead th {\n",
       "        text-align: right;\n",
       "    }\n",
       "</style>\n",
       "<table border=\"1\" class=\"dataframe\">\n",
       "  <thead>\n",
       "    <tr style=\"text-align: right;\">\n",
       "      <th>label</th>\n",
       "      <th>0</th>\n",
       "      <th>1</th>\n",
       "      <th>2</th>\n",
       "      <th>3</th>\n",
       "      <th>All</th>\n",
       "    </tr>\n",
       "    <tr>\n",
       "      <th>categoria</th>\n",
       "      <th></th>\n",
       "      <th></th>\n",
       "      <th></th>\n",
       "      <th></th>\n",
       "      <th></th>\n",
       "    </tr>\n",
       "  </thead>\n",
       "  <tbody>\n",
       "    <tr>\n",
       "      <th>Aceites</th>\n",
       "      <td>146</td>\n",
       "      <td>2</td>\n",
       "      <td>135</td>\n",
       "      <td>0</td>\n",
       "      <td>283</td>\n",
       "    </tr>\n",
       "    <tr>\n",
       "      <th>Furanos</th>\n",
       "      <td>0</td>\n",
       "      <td>0</td>\n",
       "      <td>2</td>\n",
       "      <td>0</td>\n",
       "      <td>2</td>\n",
       "    </tr>\n",
       "    <tr>\n",
       "      <th>Gases</th>\n",
       "      <td>0</td>\n",
       "      <td>143</td>\n",
       "      <td>0</td>\n",
       "      <td>0</td>\n",
       "      <td>143</td>\n",
       "    </tr>\n",
       "    <tr>\n",
       "      <th>Otros</th>\n",
       "      <td>0</td>\n",
       "      <td>0</td>\n",
       "      <td>0</td>\n",
       "      <td>79</td>\n",
       "      <td>79</td>\n",
       "    </tr>\n",
       "    <tr>\n",
       "      <th>All</th>\n",
       "      <td>146</td>\n",
       "      <td>145</td>\n",
       "      <td>137</td>\n",
       "      <td>79</td>\n",
       "      <td>507</td>\n",
       "    </tr>\n",
       "  </tbody>\n",
       "</table>\n",
       "</div>"
      ],
      "text/plain": [
       "label        0    1    2   3  All\n",
       "categoria                        \n",
       "Aceites    146    2  135   0  283\n",
       "Furanos      0    0    2   0    2\n",
       "Gases        0  143    0   0  143\n",
       "Otros        0    0    0  79   79\n",
       "All        146  145  137  79  507"
      ]
     },
     "execution_count": 43,
     "metadata": {},
     "output_type": "execute_result"
    }
   ],
   "source": [
    "pd.crosstab(resultados[\"categoria\"], resultados[\"label\"], margins=True)"
   ]
  },
  {
   "cell_type": "code",
   "execution_count": 44,
   "metadata": {},
   "outputs": [],
   "source": [
    "docs_tag = pd.read_csv(\"Target - tagging.csv\", sep=\",\")"
   ]
  },
  {
   "cell_type": "code",
   "execution_count": 45,
   "metadata": {},
   "outputs": [
    {
     "name": "stdout",
     "output_type": "stream",
     "text": [
      "<class 'pandas.core.frame.DataFrame'>\n",
      "RangeIndex: 507 entries, 0 to 506\n",
      "Data columns (total 3 columns):\n",
      " #   Column       Non-Null Count  Dtype \n",
      "---  ------       --------------  ----- \n",
      " 0   document     507 non-null    object\n",
      " 1   real target  507 non-null    object\n",
      " 2   provider     507 non-null    object\n",
      "dtypes: object(3)\n",
      "memory usage: 12.0+ KB\n"
     ]
    }
   ],
   "source": [
    "docs_tag.info()"
   ]
  },
  {
   "cell_type": "code",
   "execution_count": 46,
   "metadata": {},
   "outputs": [
    {
     "data": {
      "text/html": [
       "<div>\n",
       "<style scoped>\n",
       "    .dataframe tbody tr th:only-of-type {\n",
       "        vertical-align: middle;\n",
       "    }\n",
       "\n",
       "    .dataframe tbody tr th {\n",
       "        vertical-align: top;\n",
       "    }\n",
       "\n",
       "    .dataframe thead th {\n",
       "        text-align: right;\n",
       "    }\n",
       "</style>\n",
       "<table border=\"1\" class=\"dataframe\">\n",
       "  <thead>\n",
       "    <tr style=\"text-align: right;\">\n",
       "      <th></th>\n",
       "      <th>real target</th>\n",
       "      <th>provider</th>\n",
       "    </tr>\n",
       "    <tr>\n",
       "      <th>document</th>\n",
       "      <th></th>\n",
       "      <th></th>\n",
       "    </tr>\n",
       "  </thead>\n",
       "  <tbody>\n",
       "    <tr>\n",
       "      <th>01-2020 - 12914-48590-BCO- RESERVA FQ.txt</th>\n",
       "      <td>Aceites</td>\n",
       "      <td>Jorpa</td>\n",
       "    </tr>\n",
       "    <tr>\n",
       "      <th>01-2020 - 12914-62511-BCO- RESERVA CR.txt</th>\n",
       "      <td>Gases</td>\n",
       "      <td>Jorpa</td>\n",
       "    </tr>\n",
       "    <tr>\n",
       "      <th>01-2020 - 13242-48578-BCO-ATR1 FASE N°1 FQ.txt</th>\n",
       "      <td>Aceites</td>\n",
       "      <td>Jorpa</td>\n",
       "    </tr>\n",
       "    <tr>\n",
       "      <th>01-2020 - 13242-62505-BCO-ATR1 FASE N°1 CR.txt</th>\n",
       "      <td>Gases</td>\n",
       "      <td>Jorpa</td>\n",
       "    </tr>\n",
       "    <tr>\n",
       "      <th>01-2020 - 13242-62505-BCO-ATR1 FASE N°1 CR(1).txt</th>\n",
       "      <td>Gases</td>\n",
       "      <td>Jorpa</td>\n",
       "    </tr>\n",
       "    <tr>\n",
       "      <th>...</th>\n",
       "      <td>...</td>\n",
       "      <td>...</td>\n",
       "    </tr>\n",
       "    <tr>\n",
       "      <th>TR2-Agrupado 1.txt</th>\n",
       "      <td>Otros</td>\n",
       "      <td>Otros</td>\n",
       "    </tr>\n",
       "    <tr>\n",
       "      <th>TR2-Agrupado 2.txt</th>\n",
       "      <td>Otros</td>\n",
       "      <td>Otros</td>\n",
       "    </tr>\n",
       "    <tr>\n",
       "      <th>TR2_Pruebas Parte 1.txt</th>\n",
       "      <td>Otros</td>\n",
       "      <td>Otros</td>\n",
       "    </tr>\n",
       "    <tr>\n",
       "      <th>TR2_Pruebas Parte 2.txt</th>\n",
       "      <td>Otros</td>\n",
       "      <td>Otros</td>\n",
       "    </tr>\n",
       "    <tr>\n",
       "      <th>text.txt</th>\n",
       "      <td>Aceites</td>\n",
       "      <td>Jorpa</td>\n",
       "    </tr>\n",
       "  </tbody>\n",
       "</table>\n",
       "<p>507 rows × 2 columns</p>\n",
       "</div>"
      ],
      "text/plain": [
       "                                                  real target provider\n",
       "document                                                              \n",
       "01-2020 - 12914-48590-BCO- RESERVA FQ.txt             Aceites    Jorpa\n",
       "01-2020 - 12914-62511-BCO- RESERVA CR.txt               Gases    Jorpa\n",
       "01-2020 - 13242-48578-BCO-ATR1 FASE N°1 FQ.txt        Aceites    Jorpa\n",
       "01-2020 - 13242-62505-BCO-ATR1 FASE N°1 CR.txt          Gases    Jorpa\n",
       "01-2020 - 13242-62505-BCO-ATR1 FASE N°1 CR(1).txt       Gases    Jorpa\n",
       "...                                                       ...      ...\n",
       "TR2-Agrupado 1.txt                                      Otros    Otros\n",
       "TR2-Agrupado 2.txt                                      Otros    Otros\n",
       "TR2_Pruebas Parte 1.txt                                 Otros    Otros\n",
       "TR2_Pruebas Parte 2.txt                                 Otros    Otros\n",
       "text.txt                                              Aceites    Jorpa\n",
       "\n",
       "[507 rows x 2 columns]"
      ]
     },
     "execution_count": 46,
     "metadata": {},
     "output_type": "execute_result"
    }
   ],
   "source": [
    "docs_tag.set_index(\"document\", inplace=True)\n",
    "docs_tag"
   ]
  },
  {
   "cell_type": "code",
   "execution_count": 47,
   "metadata": {},
   "outputs": [],
   "source": [
    "tag_original.set_index(\"document\", inplace=True)\n",
    "y = tag_original.join(docs_tag)\n",
    "\n",
    "#y.fillna(\"Otros\", inplace=True)"
   ]
  },
  {
   "cell_type": "code",
   "execution_count": 48,
   "metadata": {},
   "outputs": [],
   "source": [
    "y.fillna(\"Otros\", inplace=True)"
   ]
  },
  {
   "cell_type": "code",
   "execution_count": 49,
   "metadata": {},
   "outputs": [
    {
     "data": {
      "text/plain": [
       "tag            0\n",
       "real target    0\n",
       "provider       0\n",
       "dtype: int64"
      ]
     },
     "execution_count": 49,
     "metadata": {},
     "output_type": "execute_result"
    }
   ],
   "source": [
    "y.isnull().sum()"
   ]
  },
  {
   "cell_type": "code",
   "execution_count": 50,
   "metadata": {},
   "outputs": [],
   "source": [
    "#y.drop([\"tag\", \"provider\"], axis=1, inplace=True)\n",
    "y = y[\"real target\"].values"
   ]
  },
  {
   "cell_type": "code",
   "execution_count": 51,
   "metadata": {},
   "outputs": [
    {
     "data": {
      "text/plain": [
       "array(['Otros', 'Aceites', 'Aceites', 'Aceites', 'Aceites', 'Aceites',\n",
       "       'Gases', 'Aceites', 'Aceites', 'Aceites', 'Aceites', 'Aceites',\n",
       "       'Gases/Aceites', 'Aceites', 'Aceites', 'Aceites', 'Gases',\n",
       "       'Aceites', 'Aceites', 'Aceites', 'Aceites', 'Gases', 'Gases',\n",
       "       'Gases', 'Gases', 'Gases', 'Gases', 'Gases', 'Gases', 'Aceites',\n",
       "       'Aceites', 'Aceites', 'Aceites', 'Aceites', 'Furanos', 'Gases',\n",
       "       'Aceites', 'Gases', 'Aceites', 'Gases', 'Aceites', 'Aceites',\n",
       "       'Aceites', 'Otros', 'Aceites', 'Furanos', 'Aceites', 'Aceites',\n",
       "       'Aceites', 'Aceites', 'Aceites', 'Gases', 'Gases', 'Gases',\n",
       "       'Aceites', 'Aceites', 'Gases/Aceites', 'Aceites', 'Aceites',\n",
       "       'Gases', 'Otros', 'Gases', 'Aceites', 'Gases', 'Otros', 'Aceites',\n",
       "       'Aceites', 'Aceites', 'Gases', 'Aceites', 'Gases', 'Aceites',\n",
       "       'Otros', 'Aceites', 'Aceites', 'Gases', 'Aceites', 'Aceites',\n",
       "       'Aceites', 'Aceites', 'Aceites', 'Gases', 'Aceites', 'Aceites',\n",
       "       'Aceites', 'Aceites', 'Gases', 'Aceites', 'Aceites', 'Gases',\n",
       "       'Aceites', 'Aceites', 'Aceites', 'Gases', 'Aceites', 'Gases',\n",
       "       'Gases', 'Gases', 'Aceites', 'Otros', 'Otros', 'Aceites',\n",
       "       'Aceites', 'Aceites', 'Aceites', 'Aceites', 'Aceites', 'Aceites',\n",
       "       'Otros', 'Gases', 'Aceites', 'Gases', 'Otros', 'Aceites',\n",
       "       'Aceites', 'Aceites', 'Gases', 'Gases', 'Aceites', 'Gases',\n",
       "       'Aceites', 'Aceites', 'Otros', 'Gases', 'Gases', 'Aceites',\n",
       "       'Aceites', 'Otros', 'Gases', 'Aceites', 'Aceites', 'Aceites',\n",
       "       'Aceites', 'Gases/Aceites', 'Aceites', 'Aceites', 'Aceites',\n",
       "       'Otros', 'Otros', 'Gases', 'Aceites', 'Aceites', 'Gases',\n",
       "       'Aceites', 'Aceites', 'Gases', 'Aceites', 'Gases', 'Otros',\n",
       "       'Gases', 'Aceites', 'Gases', 'Aceites', 'Gases/Aceites', 'Gases',\n",
       "       'Gases', 'Gases/Aceites', 'Aceites', 'Gases/Aceites', 'Aceites',\n",
       "       'Aceites', 'Aceites', 'Gases', 'Aceites', 'Aceites', 'Aceites',\n",
       "       'Gases', 'Aceites', 'Otros', 'Aceites', 'Aceites', 'Aceites',\n",
       "       'Aceites', 'Aceites', 'Aceites', 'Gases', 'Aceites', 'Gases',\n",
       "       'Gases', 'Gases', 'Otros', 'Otros', 'Aceites', 'Aceites',\n",
       "       'Aceites', 'Aceites', 'Gases', 'Aceites', 'Aceites', 'Gases',\n",
       "       'Aceites', 'Aceites', 'Aceites', 'Gases/Aceites', 'Gases',\n",
       "       'Gases/Aceites', 'Aceites', 'Gases', 'Aceites', 'Aceites', 'Gases',\n",
       "       'Aceites', 'Aceites', 'Gases', 'Aceites', 'Aceites', 'Otros',\n",
       "       'Aceites', 'Gases', 'Aceites', 'Gases/Aceites', 'Otros', 'Gases',\n",
       "       'Aceites', 'Aceites', 'Gases', 'Aceites', 'Otros', 'Aceites',\n",
       "       'Aceites', 'Aceites', 'Aceites', 'Aceites', 'Gases', 'Gases',\n",
       "       'Aceites', 'Aceites', 'Gases', 'Aceites', 'Aceites', 'Otros',\n",
       "       'Aceites', 'Aceites', 'Gases/Aceites', 'Aceites', 'Gases/Aceites',\n",
       "       'Aceites', 'Gases', 'Aceites', 'Aceites', 'Aceites', 'Gases',\n",
       "       'Otros', 'Gases', 'Aceites', 'Aceites', 'Aceites', 'Aceites',\n",
       "       'Aceites', 'Gases', 'Aceites', 'Gases', 'Otros', 'Aceites',\n",
       "       'Otros', 'Aceites', 'Aceites', 'Gases', 'Aceites', 'Aceites',\n",
       "       'Aceites', 'Aceites', 'Aceites', 'Gases', 'Aceites', 'Otros',\n",
       "       'Gases', 'Gases', 'Aceites', 'Aceites', 'Aceites', 'Aceites',\n",
       "       'Gases', 'Gases', 'Aceites', 'Aceites', 'Gases/Aceites', 'Aceites',\n",
       "       'Aceites', 'Gases', 'Gases', 'Gases', 'Aceites', 'Gases',\n",
       "       'Aceites', 'Furanos', 'Gases', 'Gases', 'Gases', 'Gases',\n",
       "       'Aceites', 'Gases', 'Aceites', 'Aceites', 'Aceites', 'Gases',\n",
       "       'Aceites', 'Aceites', 'Gases', 'Aceites', 'Gases/Aceites', 'Gases',\n",
       "       'Aceites', 'Gases/Aceites', 'Aceites', 'Aceites', 'Gases', 'Otros',\n",
       "       'Gases', 'Aceites', 'Aceites', 'Aceites', 'Aceites',\n",
       "       'Gases/Aceites', 'Gases/Aceites', 'Aceites', 'Aceites', 'Aceites',\n",
       "       'Gases', 'Aceites', 'Gases/Aceites', 'Aceites', 'Gases', 'Aceites',\n",
       "       'Gases', 'Aceites', 'Aceites', 'Aceites', 'Aceites', 'Aceites',\n",
       "       'Gases', 'Gases/Aceites', 'Aceites', 'Aceites', 'Aceites',\n",
       "       'Aceites', 'Aceites', 'Gases', 'Gases', 'Aceites', 'Aceites',\n",
       "       'Aceites', 'Gases', 'Gases/Aceites', 'Gases/Aceites', 'Gases',\n",
       "       'Gases', 'Gases', 'Aceites', 'Otros', 'Gases', 'Gases', 'Aceites',\n",
       "       'Gases/Aceites', 'Aceites', 'Otros', 'Otros', 'Otros', 'Aceites',\n",
       "       'Aceites', 'Gases', 'Aceites', 'Aceites', 'Gases', 'Gases',\n",
       "       'Gases', 'Aceites', 'Gases', 'Otros', 'Gases', 'Aceites',\n",
       "       'Aceites', 'Gases', 'Aceites', 'Gases', 'Aceites', 'Gases',\n",
       "       'Aceites', 'Gases', 'Aceites', 'Aceites', 'Gases', 'Aceites',\n",
       "       'Aceites', 'Aceites', 'Aceites', 'Gases/Aceites', 'Otros',\n",
       "       'Aceites', 'Aceites', 'Aceites', 'Gases', 'Aceites', 'Gases',\n",
       "       'Aceites', 'Aceites', 'Aceites', 'Gases/Aceites', 'Aceites',\n",
       "       'Aceites', 'Aceites', 'Otros', 'Gases', 'Aceites', 'Aceites',\n",
       "       'Gases', 'Aceites', 'Aceites', 'Gases/Aceites', 'Gases', 'Aceites',\n",
       "       'Gases', 'Gases', 'Aceites', 'Gases/Aceites', 'Gases',\n",
       "       'Gases/Aceites', 'Gases', 'Aceites', 'Aceites', 'Gases', 'Aceites',\n",
       "       'Aceites', 'Aceites', 'Aceites', 'Aceites', 'Aceites', 'Aceites',\n",
       "       'Gases/Aceites', 'Aceites', 'Aceites', 'Aceites', 'Otros', 'Gases',\n",
       "       'Gases', 'Aceites', 'Gases', 'Aceites', 'Aceites', 'Gases',\n",
       "       'Gases', 'Otros', 'Aceites', 'Gases', 'Aceites', 'Aceites',\n",
       "       'Gases', 'Gases/Aceites', 'Gases', 'Gases', 'Gases', 'Gases',\n",
       "       'Gases', 'Aceites', 'Aceites', 'Aceites', 'Gases', 'Gases',\n",
       "       'Aceites', 'Aceites', 'Otros', 'Gases', 'Aceites', 'Otros',\n",
       "       'Aceites', 'Aceites', 'Aceites', 'Gases', 'Aceites', 'Gases',\n",
       "       'Aceites', 'Aceites', 'Gases', 'Gases', 'Otros', 'Gases', 'Otros',\n",
       "       'Otros', 'Aceites', 'Gases', 'Aceites', 'Gases', 'Gases',\n",
       "       'Aceites', 'Aceites', 'Aceites', 'Aceites', 'Gases/Aceites',\n",
       "       'Aceites', 'Aceites', 'Gases', 'Aceites', 'Aceites', 'Aceites',\n",
       "       'Aceites', 'Gases', 'Otros', 'Aceites', 'Aceites', 'Aceites',\n",
       "       'Aceites', 'Otros', 'Aceites', 'Aceites', 'Otros', 'Gases',\n",
       "       'Aceites'], dtype=object)"
      ]
     },
     "execution_count": 51,
     "metadata": {},
     "output_type": "execute_result"
    }
   ],
   "source": [
    "y"
   ]
  },
  {
   "cell_type": "code",
   "execution_count": 52,
   "metadata": {},
   "outputs": [],
   "source": [
    "# TODO: realizar diferentes particiones, tentativamente 60-40\n",
    "from sklearn.model_selection import train_test_split\n",
    "X_train, X_test, y_train, y_test = train_test_split(X, y, test_size=0.2, random_state=0)"
   ]
  },
  {
   "cell_type": "code",
   "execution_count": 53,
   "metadata": {},
   "outputs": [
    {
     "data": {
      "text/plain": [
       "RandomForestClassifier(n_estimators=1000, random_state=0)"
      ]
     },
     "execution_count": 53,
     "metadata": {},
     "output_type": "execute_result"
    }
   ],
   "source": [
    "# TODO: Hacer naive bayes y svm - grafica de comparacion rendimiento - voting\n",
    "from sklearn.ensemble import RandomForestClassifier\n",
    "classifier = RandomForestClassifier(n_estimators=1000, random_state=0)\n",
    "classifier.fit(X_train, y_train)"
   ]
  },
  {
   "cell_type": "code",
   "execution_count": 54,
   "metadata": {},
   "outputs": [
    {
     "data": {
      "text/plain": [
       "array(['Aceites', 'Aceites', 'Aceites', 'Aceites', 'Aceites', 'Aceites',\n",
       "       'Aceites', 'Aceites', 'Aceites', 'Aceites', 'Aceites', 'Gases',\n",
       "       'Gases', 'Gases/Aceites', 'Gases', 'Aceites', 'Aceites', 'Aceites',\n",
       "       'Gases', 'Gases', 'Gases/Aceites', 'Aceites', 'Aceites', 'Aceites',\n",
       "       'Furanos', 'Gases', 'Gases', 'Gases/Aceites', 'Gases', 'Aceites',\n",
       "       'Aceites', 'Aceites', 'Aceites', 'Gases', 'Aceites', 'Gases',\n",
       "       'Aceites', 'Gases', 'Aceites', 'Gases', 'Aceites', 'Aceites',\n",
       "       'Gases', 'Otros', 'Gases', 'Aceites', 'Aceites', 'Gases',\n",
       "       'Aceites', 'Otros', 'Gases', 'Otros', 'Otros', 'Aceites',\n",
       "       'Aceites', 'Gases/Aceites', 'Gases/Aceites', 'Gases', 'Aceites',\n",
       "       'Gases/Aceites', 'Aceites', 'Aceites', 'Gases/Aceites', 'Aceites',\n",
       "       'Gases', 'Aceites', 'Gases', 'Aceites', 'Gases', 'Aceites',\n",
       "       'Aceites', 'Gases', 'Aceites', 'Gases/Aceites', 'Gases', 'Otros',\n",
       "       'Gases/Aceites', 'Otros', 'Aceites', 'Aceites', 'Aceites', 'Otros',\n",
       "       'Aceites', 'Gases', 'Aceites', 'Aceites', 'Gases', 'Aceites',\n",
       "       'Aceites', 'Gases', 'Aceites', 'Aceites', 'Otros', 'Gases/Aceites',\n",
       "       'Aceites', 'Aceites', 'Gases', 'Gases/Aceites', 'Aceites', 'Otros',\n",
       "       'Aceites', 'Otros'], dtype=object)"
      ]
     },
     "execution_count": 54,
     "metadata": {},
     "output_type": "execute_result"
    }
   ],
   "source": [
    "y_pred = classifier.predict(X_test)\n",
    "y_pred"
   ]
  },
  {
   "cell_type": "code",
   "execution_count": 55,
   "metadata": {},
   "outputs": [
    {
     "name": "stdout",
     "output_type": "stream",
     "text": [
      "[[54  0  0  0  0]\n",
      " [ 0  1  0  0  0]\n",
      " [ 0  0 26  0  0]\n",
      " [ 0  0  0 11  0]\n",
      " [ 0  0  0  0 10]]\n",
      "               precision    recall  f1-score   support\n",
      "\n",
      "      Aceites       1.00      1.00      1.00        54\n",
      "      Furanos       1.00      1.00      1.00         1\n",
      "        Gases       1.00      1.00      1.00        26\n",
      "Gases/Aceites       1.00      1.00      1.00        11\n",
      "        Otros       1.00      1.00      1.00        10\n",
      "\n",
      "     accuracy                           1.00       102\n",
      "    macro avg       1.00      1.00      1.00       102\n",
      " weighted avg       1.00      1.00      1.00       102\n",
      "\n",
      "1.0\n"
     ]
    }
   ],
   "source": [
    "from sklearn.metrics import classification_report, confusion_matrix, accuracy_score\n",
    "\n",
    "print(confusion_matrix(y_test, y_pred))\n",
    "print(classification_report(y_test,y_pred))\n",
    "print(accuracy_score(y_test, y_pred))"
   ]
  },
  {
   "cell_type": "code",
   "execution_count": 56,
   "metadata": {},
   "outputs": [],
   "source": [
    "with open('text_classifier', 'wb') as picklefile:\n",
    "    pickle.dump(classifier,picklefile)"
   ]
  },
  {
   "cell_type": "code",
   "execution_count": 57,
   "metadata": {},
   "outputs": [],
   "source": [
    "# TODO: realizar pruebas con pytesseract - avanzar en el documento - organizar approachs\n",
    "# TODO: teoria NLP y modelos\n"
   ]
  },
  {
   "cell_type": "markdown",
   "metadata": {},
   "source": [
    "## Naive Bayes"
   ]
  },
  {
   "cell_type": "code",
   "execution_count": 58,
   "metadata": {},
   "outputs": [],
   "source": [
    "from sklearn.naive_bayes import MultinomialNB\n",
    "naive_bayes = MultinomialNB()\n",
    "naive_bayes.fit(X_train, y_train)\n",
    "predictions = naive_bayes.predict(X_test)"
   ]
  },
  {
   "cell_type": "code",
   "execution_count": 59,
   "metadata": {},
   "outputs": [
    {
     "data": {
      "text/plain": [
       "array(['Aceites', 'Aceites', 'Aceites', 'Aceites', 'Aceites', 'Aceites',\n",
       "       'Aceites', 'Aceites', 'Aceites', 'Aceites', 'Aceites', 'Gases',\n",
       "       'Gases', 'Aceites', 'Gases', 'Aceites', 'Aceites', 'Aceites',\n",
       "       'Gases', 'Gases', 'Aceites', 'Aceites', 'Aceites', 'Aceites',\n",
       "       'Aceites', 'Gases', 'Gases', 'Aceites', 'Gases', 'Aceites',\n",
       "       'Aceites', 'Aceites', 'Aceites', 'Gases', 'Aceites', 'Gases',\n",
       "       'Aceites', 'Gases', 'Aceites', 'Gases', 'Aceites', 'Aceites',\n",
       "       'Gases', 'Otros', 'Gases', 'Aceites', 'Aceites', 'Gases',\n",
       "       'Aceites', 'Aceites', 'Gases', 'Aceites', 'Otros', 'Aceites',\n",
       "       'Aceites', 'Aceites', 'Aceites', 'Gases', 'Aceites', 'Aceites',\n",
       "       'Aceites', 'Aceites', 'Aceites', 'Aceites', 'Gases', 'Aceites',\n",
       "       'Gases', 'Aceites', 'Gases', 'Aceites', 'Aceites', 'Gases',\n",
       "       'Aceites', 'Aceites', 'Gases', 'Otros', 'Aceites', 'Otros',\n",
       "       'Aceites', 'Aceites', 'Aceites', 'Otros', 'Aceites', 'Gases',\n",
       "       'Aceites', 'Aceites', 'Gases', 'Aceites', 'Aceites', 'Gases',\n",
       "       'Aceites', 'Aceites', 'Otros', 'Aceites', 'Aceites', 'Aceites',\n",
       "       'Gases', 'Aceites', 'Aceites', 'Otros', 'Aceites', 'Otros'],\n",
       "      dtype='<U13')"
      ]
     },
     "execution_count": 59,
     "metadata": {},
     "output_type": "execute_result"
    }
   ],
   "source": [
    "predictions"
   ]
  },
  {
   "cell_type": "code",
   "execution_count": 60,
   "metadata": {},
   "outputs": [
    {
     "name": "stdout",
     "output_type": "stream",
     "text": [
      "Accuracy score:  0.8627450980392157\n"
     ]
    }
   ],
   "source": [
    "from sklearn.metrics import accuracy_score, precision_score, recall_score\n",
    "\n",
    "print(\"Accuracy score: \", accuracy_score(y_test, predictions))\n",
    "\n",
    "#TODO: probar tecnicas de balanceo de datos, poner recall\n"
   ]
  },
  {
   "cell_type": "markdown",
   "metadata": {},
   "source": [
    "## SVM"
   ]
  },
  {
   "cell_type": "code",
   "execution_count": 61,
   "metadata": {},
   "outputs": [],
   "source": [
    "from sklearn import svm, datasets\n",
    "import sklearn.model_selection as model_selection\n",
    "from sklearn.metrics import accuracy_score\n",
    "from sklearn.metrics import f1_score"
   ]
  },
  {
   "cell_type": "code",
   "execution_count": 62,
   "metadata": {},
   "outputs": [],
   "source": [
    "rbf = svm.SVC(kernel='rbf', gamma=0.5, C=0.1).fit(X_train, y_train)\n",
    "poly = svm.SVC(kernel='poly', degree=3, C=1).fit(X_train, y_train)"
   ]
  },
  {
   "cell_type": "code",
   "execution_count": 63,
   "metadata": {},
   "outputs": [],
   "source": [
    "poly_pred = poly.predict(X_test)\n",
    "rbf_pred = rbf.predict(X_test)"
   ]
  },
  {
   "cell_type": "code",
   "execution_count": 64,
   "metadata": {},
   "outputs": [
    {
     "name": "stdout",
     "output_type": "stream",
     "text": [
      "Accuracy (Polynomial Kernel):  98.04\n",
      "F1 (Polynomial Kernel):  98.01\n"
     ]
    }
   ],
   "source": [
    "poly_accuracy = accuracy_score(y_test, poly_pred)\n",
    "poly_f1 = f1_score(y_test, poly_pred, average='weighted')\n",
    "print('Accuracy (Polynomial Kernel): ', \"%.2f\" % (poly_accuracy*100))\n",
    "print('F1 (Polynomial Kernel): ', \"%.2f\" % (poly_f1*100))"
   ]
  },
  {
   "cell_type": "code",
   "execution_count": 65,
   "metadata": {},
   "outputs": [
    {
     "name": "stdout",
     "output_type": "stream",
     "text": [
      "Accuracy (RBF Kernel):  86.27\n",
      "F1 (RBF Kernel):  81.07\n"
     ]
    }
   ],
   "source": [
    "rbf_accuracy = accuracy_score(y_test, rbf_pred)\n",
    "rbf_f1 = f1_score(y_test, rbf_pred, average='weighted')\n",
    "print('Accuracy (RBF Kernel): ', \"%.2f\" % (rbf_accuracy*100))\n",
    "print('F1 (RBF Kernel): ', \"%.2f\" % (rbf_f1*100))"
   ]
  },
  {
   "cell_type": "markdown",
   "metadata": {},
   "source": [
    "## Voting"
   ]
  },
  {
   "cell_type": "code",
   "execution_count": 66,
   "metadata": {},
   "outputs": [],
   "source": [
    "from sklearn.ensemble import VotingClassifier\n",
    "from sklearn import model_selection\n",
    "from sklearn.ensemble import GradientBoostingClassifier\n",
    "from sklearn.linear_model import LogisticRegression\n",
    "\n",
    "\n",
    "\n",
    "# defino los estimadores para el ensamble VOTO (VotingClassifier)\n",
    "estimators = []\n",
    "estimators.append(('LOG', LogisticRegression(random_state=123)))\n",
    "estimators.append(('NB', MultinomialNB()))\n",
    "estimators.append(('SVM', svm.SVC(random_state=123)))\n",
    "estimators.append(('RF', RandomForestClassifier(min_samples_leaf= 10, class_weight=\"balanced\",random_state = 123, criterion=\"gini\", max_depth=6, max_features=5, n_estimators=150)))\n",
    "estimators.append(('GB', GradientBoostingClassifier(random_state=123,learning_rate= 0.3, max_depth=3, n_estimators= 500)))\n"
   ]
  },
  {
   "cell_type": "code",
   "execution_count": 67,
   "metadata": {},
   "outputs": [],
   "source": [
    "#Defino los modelos que voy a comparar incluido el VOTO\n",
    "def get_models():\n",
    "  models = dict()\n",
    "  models['LOG']= LogisticRegression(multi_class=\"multinomial\", random_state=123)\n",
    "  models['NB'] = MultinomialNB()\n",
    "  models['SVM'] = svm.SVC(random_state=123, kernel='rbf', gamma=0.5, C=0.1)\n",
    "  models['RF'] = RandomForestClassifier(min_samples_leaf= 10,random_state = 123, criterion=\"entropy\", max_depth=6, max_features=5, n_estimators=150)\n",
    "  models['GB']= GradientBoostingClassifier(random_state=123,learning_rate= 0.3, max_depth=3, n_estimators= 500)\n",
    "  models['Voto']=VotingClassifier(estimators, voting='hard')\n",
    "  return models"
   ]
  },
  {
   "cell_type": "code",
   "execution_count": 68,
   "metadata": {},
   "outputs": [],
   "source": [
    "#from sklearn.model_selection import cross_val_score\n",
    "from sklearn.model_selection import cross_validate\n",
    "from sklearn.model_selection import RepeatedStratifiedKFold\n",
    "\n",
    "\n",
    "def evaluate_model(model, X, y):\n",
    "\tcv = RepeatedStratifiedKFold(n_splits=2, n_repeats=5, random_state=123)\n",
    "\tscores = cross_validate(model, X, y, scoring='f1_weighted', cv=cv, error_score=\"raise\")\n",
    "\ttest_scores = scores['test_score']\n",
    "\treturn test_scores"
   ]
  },
  {
   "cell_type": "code",
   "execution_count": 69,
   "metadata": {},
   "outputs": [
    {
     "name": "stdout",
     "output_type": "stream",
     "text": [
      ">LOG 0.879 (0.013)\n",
      ">NB 0.869 (0.007)\n",
      ">SVM 0.801 (0.006)\n",
      ">RF 0.796 (0.007)\n",
      ">GB 0.941 (0.011)\n",
      ">Voto 0.928 (0.018)\n"
     ]
    }
   ],
   "source": [
    "# get the models to evaluate\n",
    "models = get_models()\n",
    "# evaluate the models and store results\n",
    "results, names = list(), list()\n",
    "for name, model in models.items():\n",
    "\tscores = evaluate_model(model, X_train, y_train)\n",
    "\tresults.append(scores)\n",
    "\tnames.append(name)\n",
    "\tprint('>%s %.3f (%.3f)' % (name, np.mean(scores), np.std(scores)))"
   ]
  },
  {
   "cell_type": "code",
   "execution_count": 70,
   "metadata": {},
   "outputs": [
    {
     "data": {
      "image/png": "[encoded data removed]",
      "text/plain": [
       "<Figure size 720x432 with 1 Axes>"
      ]
     },
     "metadata": {},
     "output_type": "display_data"
    }
   ],
   "source": [
    "# boxplot algorithm comparison\n",
    "fig = plt.figure(figsize=(10, 6))\n",
    "fig.suptitle('Algorithm Comparison')\n",
    "ax = fig.add_subplot(111)\n",
    "plt.boxplot(results)\n",
    "ax.set_xticklabels(names)\n",
    "plt.show()\n",
    "\n"
   ]
  },
  {
   "cell_type": "markdown",
   "metadata": {},
   "source": [
    "### Oversampling"
   ]
  },
  {
   "cell_type": "markdown",
   "metadata": {},
   "source": [
    "### random forest"
   ]
  },
  {
   "cell_type": "code",
   "execution_count": 71,
   "metadata": {},
   "outputs": [],
   "source": [
    "from imblearn.over_sampling import RandomOverSampler"
   ]
  },
  {
   "cell_type": "code",
   "execution_count": 72,
   "metadata": {},
   "outputs": [
    {
     "name": "stdout",
     "output_type": "stream",
     "text": [
      "Distribution before resampling Counter({'Aceites': 231, 'Gases': 121, 'Otros': 33, 'Gases/Aceites': 18, 'Furanos': 2})\n",
      "Distribution labels after resampling Counter({'Aceites': 231, 'Gases': 231, 'Gases/Aceites': 231, 'Otros': 231, 'Furanos': 231})\n"
     ]
    }
   ],
   "source": [
    "oversampling =  RandomOverSampler(random_state=0)\n",
    "\n",
    "X_train_res, y_train_res = oversampling.fit_resample(X_train, y_train)\n",
    "\n",
    "print (\"Distribution before resampling {}\".format(Counter(y_train)))\n",
    "print (\"Distribution labels after resampling {}\".format(Counter(y_train_res)))\n",
    " "
   ]
  },
  {
   "cell_type": "code",
   "execution_count": 73,
   "metadata": {},
   "outputs": [
    {
     "data": {
      "text/plain": [
       "RandomForestClassifier(n_estimators=1000, random_state=0)"
      ]
     },
     "execution_count": 73,
     "metadata": {},
     "output_type": "execute_result"
    }
   ],
   "source": [
    "classifier_oversampling = RandomForestClassifier(n_estimators=1000, random_state=0)\n",
    "classifier_oversampling.fit(X_train_res, y_train_res)"
   ]
  },
  {
   "cell_type": "code",
   "execution_count": 74,
   "metadata": {},
   "outputs": [],
   "source": [
    "y_pred_over_rf = classifier_oversampling.predict(X_test)"
   ]
  },
  {
   "cell_type": "code",
   "execution_count": 75,
   "metadata": {},
   "outputs": [
    {
     "name": "stdout",
     "output_type": "stream",
     "text": [
      "[[54  0  0  0  0]\n",
      " [ 0  1  0  0  0]\n",
      " [ 0  0 26  0  0]\n",
      " [ 0  0  0 11  0]\n",
      " [ 0  0  0  0 10]]\n",
      "               precision    recall  f1-score   support\n",
      "\n",
      "      Aceites       1.00      1.00      1.00        54\n",
      "      Furanos       1.00      1.00      1.00         1\n",
      "        Gases       1.00      1.00      1.00        26\n",
      "Gases/Aceites       1.00      1.00      1.00        11\n",
      "        Otros       1.00      1.00      1.00        10\n",
      "\n",
      "     accuracy                           1.00       102\n",
      "    macro avg       1.00      1.00      1.00       102\n",
      " weighted avg       1.00      1.00      1.00       102\n",
      "\n",
      "1.0\n"
     ]
    }
   ],
   "source": [
    "print(confusion_matrix(y_test, y_pred_over_rf))\n",
    "print(classification_report(y_test,y_pred_over_rf))\n",
    "print(accuracy_score(y_test, y_pred_over_rf))"
   ]
  },
  {
   "cell_type": "code",
   "execution_count": 76,
   "metadata": {},
   "outputs": [],
   "source": [
    "naive_bayes_oversampling = MultinomialNB()\n",
    "naive_bayes_oversampling.fit(X_train_res, y_train_res)\n",
    "predictions_oversampling_nb = naive_bayes_oversampling.predict(X_test)"
   ]
  },
  {
   "cell_type": "code",
   "execution_count": 77,
   "metadata": {},
   "outputs": [
    {
     "name": "stdout",
     "output_type": "stream",
     "text": [
      "Accuracy score:  0.8725490196078431\n"
     ]
    }
   ],
   "source": [
    "from sklearn.metrics import accuracy_score, precision_score, recall_score\n",
    "\n",
    "print(\"Accuracy score: \", accuracy_score(y_test, predictions_oversampling_nb))\n"
   ]
  },
  {
   "cell_type": "code",
   "execution_count": 78,
   "metadata": {},
   "outputs": [],
   "source": [
    "rbf_oversampling = svm.SVC(kernel='rbf', gamma=0.5, C=0.1).fit(X_train_res, y_train_res)\n",
    "poly_oversampling = svm.SVC(kernel='poly', degree=3, C=1).fit(X_train_res, y_train_res)"
   ]
  },
  {
   "cell_type": "code",
   "execution_count": 79,
   "metadata": {},
   "outputs": [],
   "source": [
    "poly_pred_oversampling = poly_oversampling.predict(X_test)\n",
    "rbf_pred_oversampling = rbf_oversampling.predict(X_test)"
   ]
  },
  {
   "cell_type": "code",
   "execution_count": 80,
   "metadata": {},
   "outputs": [
    {
     "name": "stdout",
     "output_type": "stream",
     "text": [
      "Accuracy (Polynomial Kernel):  98.04\n",
      "F1 (Polynomial Kernel):  98.01\n"
     ]
    }
   ],
   "source": [
    "poly_accuracy = accuracy_score(y_test, poly_pred_oversampling)\n",
    "poly_f1 = f1_score(y_test, poly_pred_oversampling, average='weighted')\n",
    "print('Accuracy (Polynomial Kernel): ', \"%.2f\" % (poly_accuracy*100))\n",
    "print('F1 (Polynomial Kernel): ', \"%.2f\" % (poly_f1*100))"
   ]
  },
  {
   "cell_type": "code",
   "execution_count": 81,
   "metadata": {},
   "outputs": [
    {
     "name": "stdout",
     "output_type": "stream",
     "text": [
      "Accuracy (RBF Kernel):  100.00\n",
      "F1 (RBF Kernel):  100.00\n"
     ]
    }
   ],
   "source": [
    "rbf_accuracy = accuracy_score(y_test, rbf_pred_oversampling)\n",
    "rbf_f1 = f1_score(y_test, rbf_pred_oversampling, average='weighted')\n",
    "print('Accuracy (RBF Kernel): ', \"%.2f\" % (rbf_accuracy*100))\n",
    "print('F1 (RBF Kernel): ', \"%.2f\" % (rbf_f1*100))"
   ]
  },
  {
   "cell_type": "code",
   "execution_count": 82,
   "metadata": {},
   "outputs": [],
   "source": [
    "def evaluate_model_oversampling(model, X, y):\n",
    "\tcv = RepeatedStratifiedKFold(n_splits=2, n_repeats=5, random_state=123)\n",
    "\tscores = cross_validate(model, X, y, scoring='f1_weighted', cv=cv, error_score=\"raise\")\n",
    "\ttest_scores = scores['test_score']\n",
    "\treturn test_scores"
   ]
  },
  {
   "cell_type": "code",
   "execution_count": 83,
   "metadata": {},
   "outputs": [
    {
     "name": "stdout",
     "output_type": "stream",
     "text": [
      ">LOG 0.815 (0.010)\n",
      ">NB 0.578 (0.010)\n",
      ">SVM 0.814 (0.011)\n",
      ">RF 0.813 (0.009)\n",
      ">GB 0.816 (0.006)\n",
      ">Voto 0.815 (0.010)\n"
     ]
    }
   ],
   "source": [
    "# get the models to evaluate\n",
    "models = get_models()\n",
    "# evaluate the models and store results\n",
    "results_oversampling, names = list(), list()\n",
    "for name, model in models.items():\n",
    "\tscores = evaluate_model_oversampling(model, X_train_res, y_train_res)\n",
    "\tresults_oversampling.append(scores)\n",
    "\tnames.append(name)\n",
    "\tprint('>%s %.3f (%.3f)' % (name, np.mean(scores), np.std(scores)))"
   ]
  },
  {
   "cell_type": "code",
   "execution_count": 84,
   "metadata": {},
   "outputs": [
    {
     "data": {
      "image/png": "[encoded data removed]",
      "text/plain": [
       "<Figure size 720x432 with 1 Axes>"
      ]
     },
     "metadata": {},
     "output_type": "display_data"
    }
   ],
   "source": [
    "# boxplot algorithm comparison\n",
    "fig = plt.figure(figsize=(10, 6))\n",
    "fig.suptitle('Algorithm Comparison')\n",
    "ax = fig.add_subplot(111)\n",
    "plt.boxplot(results_oversampling)\n",
    "ax.set_xticklabels(names)\n",
    "plt.show()"
   ]
  },
  {
   "cell_type": "markdown",
   "metadata": {},
   "source": [
    "### Tunning hyperparameters"
   ]
  },
  {
   "cell_type": "code",
   "execution_count": 86,
   "metadata": {},
   "outputs": [],
   "source": [
    "from sklearn.model_selection import cross_val_score\n",
    "from sklearn.model_selection import RepeatedKFold\n",
    "from sklearn.model_selection import GridSearchCV\n",
    "from sklearn.model_selection import ParameterGrid\n",
    "import multiprocessing\n"
   ]
  },
  {
   "cell_type": "code",
   "execution_count": 88,
   "metadata": {},
   "outputs": [
    {
     "name": "stderr",
     "output_type": "stream",
     "text": [
      "/Users/lorozcoceron/opt/anaconda3/lib/python3.8/site-packages/sklearn/model_selection/_search.py:969: UserWarning: One or more of the test scores are non-finite: [nan nan nan nan nan nan nan nan nan nan nan nan nan nan nan nan nan nan\n",
      " nan nan nan nan nan nan nan nan nan nan nan nan nan nan nan nan nan nan\n",
      " nan nan nan nan nan nan nan nan nan nan nan nan nan nan nan nan nan nan]\n",
      "  warnings.warn(\n",
      "/Users/lorozcoceron/opt/anaconda3/lib/python3.8/site-packages/sklearn/model_selection/_search.py:969: UserWarning: One or more of the train scores are non-finite: [nan nan nan nan nan nan nan nan nan nan nan nan nan nan nan nan nan nan\n",
      " nan nan nan nan nan nan nan nan nan nan nan nan nan nan nan nan nan nan\n",
      " nan nan nan nan nan nan nan nan nan nan nan nan nan nan nan nan nan nan]\n",
      "  warnings.warn(\n"
     ]
    },
    {
     "name": "stdout",
     "output_type": "stream",
     "text": [
      "CPU times: user 5.01 s, sys: 228 ms, total: 5.24 s\n",
      "Wall time: 12min 12s\n"
     ]
    },
    {
     "data": {
      "text/html": [
       "<div>\n",
       "<style scoped>\n",
       "    .dataframe tbody tr th:only-of-type {\n",
       "        vertical-align: middle;\n",
       "    }\n",
       "\n",
       "    .dataframe tbody tr th {\n",
       "        vertical-align: top;\n",
       "    }\n",
       "\n",
       "    .dataframe thead th {\n",
       "        text-align: right;\n",
       "    }\n",
       "</style>\n",
       "<table border=\"1\" class=\"dataframe\">\n",
       "  <thead>\n",
       "    <tr style=\"text-align: right;\">\n",
       "      <th></th>\n",
       "      <th>param_learning_rate</th>\n",
       "      <th>param_max_depth</th>\n",
       "      <th>param_max_features</th>\n",
       "      <th>param_n_estimators</th>\n",
       "      <th>mean_test_score</th>\n",
       "      <th>std_test_score</th>\n",
       "      <th>mean_train_score</th>\n",
       "      <th>std_train_score</th>\n",
       "    </tr>\n",
       "  </thead>\n",
       "  <tbody>\n",
       "    <tr>\n",
       "      <th>0</th>\n",
       "      <td>0.01</td>\n",
       "      <td>3</td>\n",
       "      <td>auto</td>\n",
       "      <td>50</td>\n",
       "      <td>NaN</td>\n",
       "      <td>NaN</td>\n",
       "      <td>NaN</td>\n",
       "      <td>NaN</td>\n",
       "    </tr>\n",
       "    <tr>\n",
       "      <th>1</th>\n",
       "      <td>0.01</td>\n",
       "      <td>3</td>\n",
       "      <td>auto</td>\n",
       "      <td>100</td>\n",
       "      <td>NaN</td>\n",
       "      <td>NaN</td>\n",
       "      <td>NaN</td>\n",
       "      <td>NaN</td>\n",
       "    </tr>\n",
       "    <tr>\n",
       "      <th>2</th>\n",
       "      <td>0.01</td>\n",
       "      <td>3</td>\n",
       "      <td>auto</td>\n",
       "      <td>500</td>\n",
       "      <td>NaN</td>\n",
       "      <td>NaN</td>\n",
       "      <td>NaN</td>\n",
       "      <td>NaN</td>\n",
       "    </tr>\n",
       "    <tr>\n",
       "      <th>3</th>\n",
       "      <td>0.01</td>\n",
       "      <td>3</td>\n",
       "      <td>sqrt</td>\n",
       "      <td>50</td>\n",
       "      <td>NaN</td>\n",
       "      <td>NaN</td>\n",
       "      <td>NaN</td>\n",
       "      <td>NaN</td>\n",
       "    </tr>\n",
       "  </tbody>\n",
       "</table>\n",
       "</div>"
      ],
      "text/plain": [
       "  param_learning_rate param_max_depth param_max_features param_n_estimators  \\\n",
       "0                0.01               3               auto                 50   \n",
       "1                0.01               3               auto                100   \n",
       "2                0.01               3               auto                500   \n",
       "3                0.01               3               sqrt                 50   \n",
       "\n",
       "   mean_test_score  std_test_score  mean_train_score  std_train_score  \n",
       "0              NaN             NaN               NaN              NaN  \n",
       "1              NaN             NaN               NaN              NaN  \n",
       "2              NaN             NaN               NaN              NaN  \n",
       "3              NaN             NaN               NaN              NaN  "
      ]
     },
     "execution_count": 88,
     "metadata": {},
     "output_type": "execute_result"
    }
   ],
   "source": [
    "# Grid de hiperparámetros evaluados\n",
    "# ==============================================================================\n",
    "param_grid = {'n_estimators'  : [50, 100, 500],\n",
    "              'max_features'  : ['auto', 'sqrt'],\n",
    "              'max_depth'     : [3, 5, 10],\n",
    "              'learning_rate' : [0.01, 0.1, 0.3]\n",
    "             }\n",
    "\n",
    "# Búsqueda por grid search con validación cruzada\n",
    "# ==============================================================================\n",
    "grid = GridSearchCV(\n",
    "        estimator  = GradientBoostingClassifier(random_state=123),\n",
    "        param_grid = param_grid,\n",
    "        scoring    = 'f1',\n",
    "        n_jobs     = multiprocessing.cpu_count() - 1,\n",
    "        cv         = RepeatedKFold(n_splits=3, n_repeats=2, random_state=123), \n",
    "        refit      = True,\n",
    "        verbose    = 0,\n",
    "        return_train_score = True\n",
    "       )\n",
    "\n",
    "%time grid.fit(X = X_train_res, y =  y_train_res)\n",
    "\n",
    "# Resultados\n",
    "# ==============================================================================\n",
    "resultados = pd.DataFrame(grid.cv_results_)\n",
    "resultados.filter(regex = '(param*|mean_t|std_t)') \\\n",
    "    .drop(columns = 'params') \\\n",
    "    .sort_values('mean_test_score', ascending = False) \\\n",
    "    .head(4)"
   ]
  },
  {
   "cell_type": "code",
   "execution_count": 89,
   "metadata": {},
   "outputs": [
    {
     "name": "stdout",
     "output_type": "stream",
     "text": [
      "----------------------------------------\n",
      "Mejores hiperparámetros encontrados (cv)\n",
      "----------------------------------------\n",
      "{'learning_rate': 0.01, 'max_depth': 3, 'max_features': 'auto', 'n_estimators': 50} : nan f1\n"
     ]
    }
   ],
   "source": [
    "# Mejores hiperparámetros por validación cruzada\n",
    "# ==============================================================================\n",
    "print(\"----------------------------------------\")\n",
    "print(\"Mejores hiperparámetros encontrados (cv)\")\n",
    "print(\"----------------------------------------\")\n",
    "print(grid.best_params_, \":\", grid.best_score_, grid.scoring)"
   ]
  },
  {
   "cell_type": "code",
   "execution_count": 90,
   "metadata": {},
   "outputs": [],
   "source": [
    "modelo_final_gb = grid.best_estimator_"
   ]
  },
  {
   "cell_type": "code",
   "execution_count": 91,
   "metadata": {},
   "outputs": [],
   "source": [
    "y_pred_gb = modelo_final_gb.predict(X = X_test)"
   ]
  },
  {
   "cell_type": "code",
   "execution_count": 92,
   "metadata": {},
   "outputs": [
    {
     "name": "stdout",
     "output_type": "stream",
     "text": [
      "Accuracy 100.0 %\n"
     ]
    }
   ],
   "source": [
    "print(\"Accuracy {} %\".format(100*accuracy_score(y_pred_gb, y_test)))"
   ]
  },
  {
   "cell_type": "code",
   "execution_count": 93,
   "metadata": {},
   "outputs": [
    {
     "data": {
      "image/png": "[encoded data removed]",
      "text/plain": [
       "<Figure size 1152x648 with 2 Axes>"
      ]
     },
     "metadata": {},
     "output_type": "display_data"
    },
    {
     "data": {
      "text/plain": [
       "<Figure size 1152x1152 with 0 Axes>"
      ]
     },
     "metadata": {},
     "output_type": "display_data"
    }
   ],
   "source": [
    "import seaborn as sns\n",
    "\n",
    "# Resultados en el Conjunto de Testing\n",
    "cm = confusion_matrix( y_test, y_pred_gb)\n",
    "\n",
    "ax= plt.subplot()\n",
    "sns.heatmap(cm, ax=ax, annot=True, cmap=\"GnBu\", fmt='.5g', linewidths=.5);\n",
    "ax.set_xlabel('Predicted labels');ax.set_ylabel('True labels'); \n",
    "ax.set_title('Confusion Matrix'); \n",
    "plt.figure(figsize=(16, 16));"
   ]
  },
  {
   "cell_type": "code",
   "execution_count": 94,
   "metadata": {},
   "outputs": [
    {
     "name": "stdout",
     "output_type": "stream",
     "text": [
      "               precision    recall  f1-score   support\n",
      "\n",
      "      Aceites       1.00      1.00      1.00        54\n",
      "      Furanos       1.00      1.00      1.00         1\n",
      "        Gases       1.00      1.00      1.00        26\n",
      "Gases/Aceites       1.00      1.00      1.00        11\n",
      "        Otros       1.00      1.00      1.00        10\n",
      "\n",
      "     accuracy                           1.00       102\n",
      "    macro avg       1.00      1.00      1.00       102\n",
      " weighted avg       1.00      1.00      1.00       102\n",
      "\n"
     ]
    }
   ],
   "source": [
    "print(classification_report(y_test, y_pred_gb))"
   ]
  }
 ],
 "metadata": {
  "interpreter": {
   "hash": "f7a2f10f80f165277bb83bacaf62a68250c7381448cc8fd6992e3fb727ef59d1"
  },
  "kernelspec": {
   "display_name": "Python 3.8.8 64-bit ('base': conda)",
   "name": "python3"
  },
  "language_info": {
   "codemirror_mode": {
    "name": "ipython",
    "version": 3
   },
   "file_extension": ".py",
   "mimetype": "text/x-python",
   "name": "python",
   "nbconvert_exporter": "python",
   "pygments_lexer": "ipython3",
   "version": "3.8.8"
  },
  "orig_nbformat": 4
 },
 "nbformat": 4,
 "nbformat_minor": 2
}